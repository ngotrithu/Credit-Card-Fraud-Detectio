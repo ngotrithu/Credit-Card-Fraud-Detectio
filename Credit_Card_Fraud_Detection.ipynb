{
  "nbformat": 4,
  "nbformat_minor": 0,
  "metadata": {
    "colab": {
      "name": "Credit Card Fraud Detection .ipynb",
      "provenance": [],
      "toc_visible": true,
      "collapsed_sections": [
        "Cq7WoanD9qQl",
        "g1wjtXiyF3wr",
        "itf8NUX_HZKm"
      ],
      "authorship_tag": "ABX9TyOR1FrNHnuJgpGSXWKgvSUT",
      "include_colab_link": true
    },
    "kernelspec": {
      "name": "python3",
      "display_name": "Python 3"
    },
    "language_info": {
      "name": "python"
    }
  },
  "cells": [
    {
      "cell_type": "markdown",
      "metadata": {
        "id": "view-in-github",
        "colab_type": "text"
      },
      "source": [
        "<a href=\"https://colab.research.google.com/github/ngotrithu/Credit-Card-Fraud-Detection/blob/main/Credit_Card_Fraud_Detection.ipynb\" target=\"_parent\"><img src=\"https://colab.research.google.com/assets/colab-badge.svg\" alt=\"Open In Colab\"/></a>"
      ]
    },
    {
      "cell_type": "markdown",
      "source": [
        "##Mục Đích:\n",
        "* Với những thông tin đã cung cấp xây dựng mô hình dự báo liệu KH này có thực hiện hành vi gian lận khi sử dụng thẻ tín dụng hay không?\n",
        "* Điều quan trọng của công ty tín dụng phát hành thẻ là phát hiện được các KH có hành vi gian lận thẻ tín dụng để khi họ mua các sản phẩm, dịch vụ họ sẽ không bị tính phí cho các sản phẩm, dịch vụ đấy\n",
        "* Bộ dữ liệu này chứa các thông tin giao dịch có 492 TH gian lận trong tổng số 284.807 giao dịch. Đây là bộ dữ liệu mất cân bằng nghiêm trọng với positive class (gian lận) chiếm 0,172% tổng số giao dịch. Do đó, chúng ta không nên sử dụng metrics `Accuracy` để đánh giá mô hình vì số lượng nhãn 0 quá nhiều, thay vào đó, chúng ta nên tập trung vào F1 Score, Precision/Recall, ROC_AUC hoặc Confusion matrix để có sự đánh giá chính xác hơn về hiệu suất của các mô hình"
      ],
      "metadata": {
        "id": "ESOkkQpFkLZo"
      }
    },
    {
      "cell_type": "code",
      "execution_count": null,
      "metadata": {
        "colab": {
          "base_uri": "https://localhost:8080/"
        },
        "id": "qV9Ea6_eqXhh",
        "outputId": "01f85f18-62a4-4e28-fde9-676c2aec04ad"
      },
      "outputs": [
        {
          "output_type": "stream",
          "name": "stdout",
          "text": [
            "Mounted at /content/drive\n",
            "creditcard.csv\t    realestate.csv  weatherAUS_2.csv\n",
            "Customer-Churn.csv  test.csv\t    weatherAUS.csv\n",
            "data\t\t    train.csv\t    weatherdata.csv\n"
          ]
        }
      ],
      "source": [
        "from google.colab import drive\n",
        "import os\n",
        "\n",
        "drive.mount('/content/drive')\n",
        "os.chdir('drive/My Drive/Colab Notebooks')\n",
        "!ls dataset"
      ]
    },
    {
      "cell_type": "code",
      "source": [
        "import pandas as pd\n",
        "import numpy as np\n",
        "import matplotlib.pyplot as plt\n",
        "import seaborn as sns\n",
        "from sklearn import preprocessing \n",
        "from sklearn.preprocessing import LabelEncoder\n",
        "from imblearn.over_sampling import SMOTE\n",
        "%matplotlib inline\n",
        "from sklearn.ensemble import RandomForestClassifier\n",
        "from sklearn.linear_model import LogisticRegression\n",
        "from sklearn import datasets, linear_model, metrics\n",
        "from sklearn.ensemble import VotingClassifier\n",
        "from sklearn.model_selection import StratifiedKFold\n",
        "from sklearn.model_selection import cross_val_score\n",
        "from sklearn.metrics import accuracy_score,precision_score, recall_score, f1_score, confusion_matrix, classification_report\n",
        "from sklearn.preprocessing import StandardScaler\n",
        "from sklearn.model_selection import train_test_split\n",
        "import warnings\n",
        "warnings.filterwarnings('ignore')"
      ],
      "metadata": {
        "id": "QnKDx3EX8oHk"
      },
      "execution_count": null,
      "outputs": []
    },
    {
      "cell_type": "markdown",
      "source": [
        "##Load Data"
      ],
      "metadata": {
        "id": "w4NWaOn2s_A0"
      }
    },
    {
      "cell_type": "code",
      "source": [
        "import numpy as np\n",
        "import pandas as pd\n",
        "import matplotlib.pyplot as plt\n",
        "import seaborn as sns\n",
        "df=pd.read_csv('dataset/creditcard.csv')\n",
        "# Converting all column names to lower case\n",
        "df.columns = df.columns.str.lower()\n",
        "df.head()"
      ],
      "metadata": {
        "colab": {
          "base_uri": "https://localhost:8080/",
          "height": 300
        },
        "id": "KUh5wUQCrahJ",
        "outputId": "2810e4b7-a6ef-48d6-e420-281e516993d9"
      },
      "execution_count": null,
      "outputs": [
        {
          "output_type": "execute_result",
          "data": {
            "text/plain": [
              "   time        v1        v2        v3        v4        v5        v6        v7  \\\n",
              "0   0.0 -1.359807 -0.072781  2.536347  1.378155 -0.338321  0.462388  0.239599   \n",
              "1   0.0  1.191857  0.266151  0.166480  0.448154  0.060018 -0.082361 -0.078803   \n",
              "2   1.0 -1.358354 -1.340163  1.773209  0.379780 -0.503198  1.800499  0.791461   \n",
              "3   1.0 -0.966272 -0.185226  1.792993 -0.863291 -0.010309  1.247203  0.237609   \n",
              "4   2.0 -1.158233  0.877737  1.548718  0.403034 -0.407193  0.095921  0.592941   \n",
              "\n",
              "         v8        v9  ...       v21       v22       v23       v24       v25  \\\n",
              "0  0.098698  0.363787  ... -0.018307  0.277838 -0.110474  0.066928  0.128539   \n",
              "1  0.085102 -0.255425  ... -0.225775 -0.638672  0.101288 -0.339846  0.167170   \n",
              "2  0.247676 -1.514654  ...  0.247998  0.771679  0.909412 -0.689281 -0.327642   \n",
              "3  0.377436 -1.387024  ... -0.108300  0.005274 -0.190321 -1.175575  0.647376   \n",
              "4 -0.270533  0.817739  ... -0.009431  0.798278 -0.137458  0.141267 -0.206010   \n",
              "\n",
              "        v26       v27       v28  amount  class  \n",
              "0 -0.189115  0.133558 -0.021053  149.62      0  \n",
              "1  0.125895 -0.008983  0.014724    2.69      0  \n",
              "2 -0.139097 -0.055353 -0.059752  378.66      0  \n",
              "3 -0.221929  0.062723  0.061458  123.50      0  \n",
              "4  0.502292  0.219422  0.215153   69.99      0  \n",
              "\n",
              "[5 rows x 31 columns]"
            ],
            "text/html": [
              "\n",
              "  <div id=\"df-d67d6fdf-6903-4822-9174-9e0838f012da\">\n",
              "    <div class=\"colab-df-container\">\n",
              "      <div>\n",
              "<style scoped>\n",
              "    .dataframe tbody tr th:only-of-type {\n",
              "        vertical-align: middle;\n",
              "    }\n",
              "\n",
              "    .dataframe tbody tr th {\n",
              "        vertical-align: top;\n",
              "    }\n",
              "\n",
              "    .dataframe thead th {\n",
              "        text-align: right;\n",
              "    }\n",
              "</style>\n",
              "<table border=\"1\" class=\"dataframe\">\n",
              "  <thead>\n",
              "    <tr style=\"text-align: right;\">\n",
              "      <th></th>\n",
              "      <th>time</th>\n",
              "      <th>v1</th>\n",
              "      <th>v2</th>\n",
              "      <th>v3</th>\n",
              "      <th>v4</th>\n",
              "      <th>v5</th>\n",
              "      <th>v6</th>\n",
              "      <th>v7</th>\n",
              "      <th>v8</th>\n",
              "      <th>v9</th>\n",
              "      <th>...</th>\n",
              "      <th>v21</th>\n",
              "      <th>v22</th>\n",
              "      <th>v23</th>\n",
              "      <th>v24</th>\n",
              "      <th>v25</th>\n",
              "      <th>v26</th>\n",
              "      <th>v27</th>\n",
              "      <th>v28</th>\n",
              "      <th>amount</th>\n",
              "      <th>class</th>\n",
              "    </tr>\n",
              "  </thead>\n",
              "  <tbody>\n",
              "    <tr>\n",
              "      <th>0</th>\n",
              "      <td>0.0</td>\n",
              "      <td>-1.359807</td>\n",
              "      <td>-0.072781</td>\n",
              "      <td>2.536347</td>\n",
              "      <td>1.378155</td>\n",
              "      <td>-0.338321</td>\n",
              "      <td>0.462388</td>\n",
              "      <td>0.239599</td>\n",
              "      <td>0.098698</td>\n",
              "      <td>0.363787</td>\n",
              "      <td>...</td>\n",
              "      <td>-0.018307</td>\n",
              "      <td>0.277838</td>\n",
              "      <td>-0.110474</td>\n",
              "      <td>0.066928</td>\n",
              "      <td>0.128539</td>\n",
              "      <td>-0.189115</td>\n",
              "      <td>0.133558</td>\n",
              "      <td>-0.021053</td>\n",
              "      <td>149.62</td>\n",
              "      <td>0</td>\n",
              "    </tr>\n",
              "    <tr>\n",
              "      <th>1</th>\n",
              "      <td>0.0</td>\n",
              "      <td>1.191857</td>\n",
              "      <td>0.266151</td>\n",
              "      <td>0.166480</td>\n",
              "      <td>0.448154</td>\n",
              "      <td>0.060018</td>\n",
              "      <td>-0.082361</td>\n",
              "      <td>-0.078803</td>\n",
              "      <td>0.085102</td>\n",
              "      <td>-0.255425</td>\n",
              "      <td>...</td>\n",
              "      <td>-0.225775</td>\n",
              "      <td>-0.638672</td>\n",
              "      <td>0.101288</td>\n",
              "      <td>-0.339846</td>\n",
              "      <td>0.167170</td>\n",
              "      <td>0.125895</td>\n",
              "      <td>-0.008983</td>\n",
              "      <td>0.014724</td>\n",
              "      <td>2.69</td>\n",
              "      <td>0</td>\n",
              "    </tr>\n",
              "    <tr>\n",
              "      <th>2</th>\n",
              "      <td>1.0</td>\n",
              "      <td>-1.358354</td>\n",
              "      <td>-1.340163</td>\n",
              "      <td>1.773209</td>\n",
              "      <td>0.379780</td>\n",
              "      <td>-0.503198</td>\n",
              "      <td>1.800499</td>\n",
              "      <td>0.791461</td>\n",
              "      <td>0.247676</td>\n",
              "      <td>-1.514654</td>\n",
              "      <td>...</td>\n",
              "      <td>0.247998</td>\n",
              "      <td>0.771679</td>\n",
              "      <td>0.909412</td>\n",
              "      <td>-0.689281</td>\n",
              "      <td>-0.327642</td>\n",
              "      <td>-0.139097</td>\n",
              "      <td>-0.055353</td>\n",
              "      <td>-0.059752</td>\n",
              "      <td>378.66</td>\n",
              "      <td>0</td>\n",
              "    </tr>\n",
              "    <tr>\n",
              "      <th>3</th>\n",
              "      <td>1.0</td>\n",
              "      <td>-0.966272</td>\n",
              "      <td>-0.185226</td>\n",
              "      <td>1.792993</td>\n",
              "      <td>-0.863291</td>\n",
              "      <td>-0.010309</td>\n",
              "      <td>1.247203</td>\n",
              "      <td>0.237609</td>\n",
              "      <td>0.377436</td>\n",
              "      <td>-1.387024</td>\n",
              "      <td>...</td>\n",
              "      <td>-0.108300</td>\n",
              "      <td>0.005274</td>\n",
              "      <td>-0.190321</td>\n",
              "      <td>-1.175575</td>\n",
              "      <td>0.647376</td>\n",
              "      <td>-0.221929</td>\n",
              "      <td>0.062723</td>\n",
              "      <td>0.061458</td>\n",
              "      <td>123.50</td>\n",
              "      <td>0</td>\n",
              "    </tr>\n",
              "    <tr>\n",
              "      <th>4</th>\n",
              "      <td>2.0</td>\n",
              "      <td>-1.158233</td>\n",
              "      <td>0.877737</td>\n",
              "      <td>1.548718</td>\n",
              "      <td>0.403034</td>\n",
              "      <td>-0.407193</td>\n",
              "      <td>0.095921</td>\n",
              "      <td>0.592941</td>\n",
              "      <td>-0.270533</td>\n",
              "      <td>0.817739</td>\n",
              "      <td>...</td>\n",
              "      <td>-0.009431</td>\n",
              "      <td>0.798278</td>\n",
              "      <td>-0.137458</td>\n",
              "      <td>0.141267</td>\n",
              "      <td>-0.206010</td>\n",
              "      <td>0.502292</td>\n",
              "      <td>0.219422</td>\n",
              "      <td>0.215153</td>\n",
              "      <td>69.99</td>\n",
              "      <td>0</td>\n",
              "    </tr>\n",
              "  </tbody>\n",
              "</table>\n",
              "<p>5 rows × 31 columns</p>\n",
              "</div>\n",
              "      <button class=\"colab-df-convert\" onclick=\"convertToInteractive('df-d67d6fdf-6903-4822-9174-9e0838f012da')\"\n",
              "              title=\"Convert this dataframe to an interactive table.\"\n",
              "              style=\"display:none;\">\n",
              "        \n",
              "  <svg xmlns=\"http://www.w3.org/2000/svg\" height=\"24px\"viewBox=\"0 0 24 24\"\n",
              "       width=\"24px\">\n",
              "    <path d=\"M0 0h24v24H0V0z\" fill=\"none\"/>\n",
              "    <path d=\"M18.56 5.44l.94 2.06.94-2.06 2.06-.94-2.06-.94-.94-2.06-.94 2.06-2.06.94zm-11 1L8.5 8.5l.94-2.06 2.06-.94-2.06-.94L8.5 2.5l-.94 2.06-2.06.94zm10 10l.94 2.06.94-2.06 2.06-.94-2.06-.94-.94-2.06-.94 2.06-2.06.94z\"/><path d=\"M17.41 7.96l-1.37-1.37c-.4-.4-.92-.59-1.43-.59-.52 0-1.04.2-1.43.59L10.3 9.45l-7.72 7.72c-.78.78-.78 2.05 0 2.83L4 21.41c.39.39.9.59 1.41.59.51 0 1.02-.2 1.41-.59l7.78-7.78 2.81-2.81c.8-.78.8-2.07 0-2.86zM5.41 20L4 18.59l7.72-7.72 1.47 1.35L5.41 20z\"/>\n",
              "  </svg>\n",
              "      </button>\n",
              "      \n",
              "  <style>\n",
              "    .colab-df-container {\n",
              "      display:flex;\n",
              "      flex-wrap:wrap;\n",
              "      gap: 12px;\n",
              "    }\n",
              "\n",
              "    .colab-df-convert {\n",
              "      background-color: #E8F0FE;\n",
              "      border: none;\n",
              "      border-radius: 50%;\n",
              "      cursor: pointer;\n",
              "      display: none;\n",
              "      fill: #1967D2;\n",
              "      height: 32px;\n",
              "      padding: 0 0 0 0;\n",
              "      width: 32px;\n",
              "    }\n",
              "\n",
              "    .colab-df-convert:hover {\n",
              "      background-color: #E2EBFA;\n",
              "      box-shadow: 0px 1px 2px rgba(60, 64, 67, 0.3), 0px 1px 3px 1px rgba(60, 64, 67, 0.15);\n",
              "      fill: #174EA6;\n",
              "    }\n",
              "\n",
              "    [theme=dark] .colab-df-convert {\n",
              "      background-color: #3B4455;\n",
              "      fill: #D2E3FC;\n",
              "    }\n",
              "\n",
              "    [theme=dark] .colab-df-convert:hover {\n",
              "      background-color: #434B5C;\n",
              "      box-shadow: 0px 1px 3px 1px rgba(0, 0, 0, 0.15);\n",
              "      filter: drop-shadow(0px 1px 2px rgba(0, 0, 0, 0.3));\n",
              "      fill: #FFFFFF;\n",
              "    }\n",
              "  </style>\n",
              "\n",
              "      <script>\n",
              "        const buttonEl =\n",
              "          document.querySelector('#df-d67d6fdf-6903-4822-9174-9e0838f012da button.colab-df-convert');\n",
              "        buttonEl.style.display =\n",
              "          google.colab.kernel.accessAllowed ? 'block' : 'none';\n",
              "\n",
              "        async function convertToInteractive(key) {\n",
              "          const element = document.querySelector('#df-d67d6fdf-6903-4822-9174-9e0838f012da');\n",
              "          const dataTable =\n",
              "            await google.colab.kernel.invokeFunction('convertToInteractive',\n",
              "                                                     [key], {});\n",
              "          if (!dataTable) return;\n",
              "\n",
              "          const docLinkHtml = 'Like what you see? Visit the ' +\n",
              "            '<a target=\"_blank\" href=https://colab.research.google.com/notebooks/data_table.ipynb>data table notebook</a>'\n",
              "            + ' to learn more about interactive tables.';\n",
              "          element.innerHTML = '';\n",
              "          dataTable['output_type'] = 'display_data';\n",
              "          await google.colab.output.renderOutput(dataTable, element);\n",
              "          const docLink = document.createElement('div');\n",
              "          docLink.innerHTML = docLinkHtml;\n",
              "          element.appendChild(docLink);\n",
              "        }\n",
              "      </script>\n",
              "    </div>\n",
              "  </div>\n",
              "  "
            ]
          },
          "metadata": {},
          "execution_count": 4
        }
      ]
    },
    {
      "cell_type": "markdown",
      "source": [
        "* Do vấn đề bảo mật, các features gốc V1, V2, ... V28 đã được biến đổi bằng PCA. Tuy nhiên, chúng tôi có thể đoán rằng các features này có thể là số thẻ tín dụng, ngày hết hạn, CVV, tên chủ thẻ, vị trí giao dịch, ngày giao dịch- thời gian,...\n",
        "* Có hai features duy nhất chưa được chuyển đổi với PCA là `Time` và `Amount`. Do đó, chúng ta chỉ cần tập trung vào việc xử lý hai features này"
      ],
      "metadata": {
        "id": "yfZ_xcxhtRDO"
      }
    },
    {
      "cell_type": "markdown",
      "source": [
        "##Exploratory Data Analysis"
      ],
      "metadata": {
        "id": "nrb2vLNQvnXm"
      }
    },
    {
      "cell_type": "code",
      "source": [
        "df.shape"
      ],
      "metadata": {
        "colab": {
          "base_uri": "https://localhost:8080/"
        },
        "id": "N7i_AtjKvpoq",
        "outputId": "e8742eff-c7b5-4091-bfe7-cb8d1e39bb98"
      },
      "execution_count": null,
      "outputs": [
        {
          "output_type": "execute_result",
          "data": {
            "text/plain": [
              "(284807, 31)"
            ]
          },
          "metadata": {},
          "execution_count": 5
        }
      ]
    },
    {
      "cell_type": "code",
      "source": [
        "df.info()"
      ],
      "metadata": {
        "colab": {
          "base_uri": "https://localhost:8080/"
        },
        "id": "4XFVzZLcvqTp",
        "outputId": "294bfb90-f290-45d4-89dd-4f3a96c53f2c"
      },
      "execution_count": null,
      "outputs": [
        {
          "output_type": "stream",
          "name": "stdout",
          "text": [
            "<class 'pandas.core.frame.DataFrame'>\n",
            "RangeIndex: 284807 entries, 0 to 284806\n",
            "Data columns (total 31 columns):\n",
            " #   Column  Non-Null Count   Dtype  \n",
            "---  ------  --------------   -----  \n",
            " 0   time    284807 non-null  float64\n",
            " 1   v1      284807 non-null  float64\n",
            " 2   v2      284807 non-null  float64\n",
            " 3   v3      284807 non-null  float64\n",
            " 4   v4      284807 non-null  float64\n",
            " 5   v5      284807 non-null  float64\n",
            " 6   v6      284807 non-null  float64\n",
            " 7   v7      284807 non-null  float64\n",
            " 8   v8      284807 non-null  float64\n",
            " 9   v9      284807 non-null  float64\n",
            " 10  v10     284807 non-null  float64\n",
            " 11  v11     284807 non-null  float64\n",
            " 12  v12     284807 non-null  float64\n",
            " 13  v13     284807 non-null  float64\n",
            " 14  v14     284807 non-null  float64\n",
            " 15  v15     284807 non-null  float64\n",
            " 16  v16     284807 non-null  float64\n",
            " 17  v17     284807 non-null  float64\n",
            " 18  v18     284807 non-null  float64\n",
            " 19  v19     284807 non-null  float64\n",
            " 20  v20     284807 non-null  float64\n",
            " 21  v21     284807 non-null  float64\n",
            " 22  v22     284807 non-null  float64\n",
            " 23  v23     284807 non-null  float64\n",
            " 24  v24     284807 non-null  float64\n",
            " 25  v25     284807 non-null  float64\n",
            " 26  v26     284807 non-null  float64\n",
            " 27  v27     284807 non-null  float64\n",
            " 28  v28     284807 non-null  float64\n",
            " 29  amount  284807 non-null  float64\n",
            " 30  class   284807 non-null  int64  \n",
            "dtypes: float64(30), int64(1)\n",
            "memory usage: 67.4 MB\n"
          ]
        }
      ]
    },
    {
      "cell_type": "code",
      "source": [
        "df.isnull().sum().sum()"
      ],
      "metadata": {
        "colab": {
          "base_uri": "https://localhost:8080/"
        },
        "id": "cM2Wn7e5vrW5",
        "outputId": "8d6a3eb5-6bad-4b8e-913a-2d048e0dcf64"
      },
      "execution_count": null,
      "outputs": [
        {
          "output_type": "execute_result",
          "data": {
            "text/plain": [
              "0"
            ]
          },
          "metadata": {},
          "execution_count": 7
        }
      ]
    },
    {
      "cell_type": "markdown",
      "source": [
        "Bộ dữ liệu này có 29 biến `float`, 1 biến target là `int` và không có missing values"
      ],
      "metadata": {
        "id": "s8xsoW1_v1yS"
      }
    },
    {
      "cell_type": "code",
      "source": [
        "df['class'].value_counts()/len(df)"
      ],
      "metadata": {
        "colab": {
          "base_uri": "https://localhost:8080/"
        },
        "id": "X52cpaNVvzl8",
        "outputId": "f7b1978f-c58c-49d8-a9b7-f4e5966afed5"
      },
      "execution_count": null,
      "outputs": [
        {
          "output_type": "execute_result",
          "data": {
            "text/plain": [
              "0    0.998273\n",
              "1    0.001727\n",
              "Name: class, dtype: float64"
            ]
          },
          "metadata": {},
          "execution_count": 8
        }
      ]
    },
    {
      "cell_type": "code",
      "source": [
        "f,ax = plt.subplots(figsize=(6,8))\n",
        "ax = sns.countplot(x='class', data=df, palette='Set1')\n",
        "plt.show()"
      ],
      "metadata": {
        "colab": {
          "base_uri": "https://localhost:8080/",
          "height": 497
        },
        "id": "ChT4C3OnwbQe",
        "outputId": "7274c165-8fc0-4af8-87f9-26a19e5d0a0a"
      },
      "execution_count": null,
      "outputs": [
        {
          "output_type": "display_data",
          "data": {
            "text/plain": [
              "<Figure size 432x576 with 1 Axes>"
            ],
            "image/png": "[encoded data removed]"
          },
          "metadata": {
            "needs_background": "light"
          }
        }
      ]
    },
    {
      "cell_type": "markdown",
      "source": [
        "* Bộ dữ liệu này chứa các thông tin giao dịch có 492 TH gian lận trong tổng số 284.807 giao dịch. Đây là bộ dữ liệu mất cân bằng nghiêm trọng với positive class (gian lận) chiếm 0,172% tổng số giao dịch"
      ],
      "metadata": {
        "id": "prGTQY5Mwxl3"
      }
    },
    {
      "cell_type": "code",
      "source": [
        "df[['time','amount']].describe()"
      ],
      "metadata": {
        "colab": {
          "base_uri": "https://localhost:8080/",
          "height": 300
        },
        "id": "ppnqo05iwe3W",
        "outputId": "62e8ce37-7a93-436f-fea0-f5477e116cf5"
      },
      "execution_count": null,
      "outputs": [
        {
          "output_type": "execute_result",
          "data": {
            "text/plain": [
              "                time         amount\n",
              "count  284807.000000  284807.000000\n",
              "mean    94813.859575      88.349619\n",
              "std     47488.145955     250.120109\n",
              "min         0.000000       0.000000\n",
              "25%     54201.500000       5.600000\n",
              "50%     84692.000000      22.000000\n",
              "75%    139320.500000      77.165000\n",
              "max    172792.000000   25691.160000"
            ],
            "text/html": [
              "\n",
              "  <div id=\"df-48e2ee0f-05ef-4467-9209-d5f441e93a0f\">\n",
              "    <div class=\"colab-df-container\">\n",
              "      <div>\n",
              "<style scoped>\n",
              "    .dataframe tbody tr th:only-of-type {\n",
              "        vertical-align: middle;\n",
              "    }\n",
              "\n",
              "    .dataframe tbody tr th {\n",
              "        vertical-align: top;\n",
              "    }\n",
              "\n",
              "    .dataframe thead th {\n",
              "        text-align: right;\n",
              "    }\n",
              "</style>\n",
              "<table border=\"1\" class=\"dataframe\">\n",
              "  <thead>\n",
              "    <tr style=\"text-align: right;\">\n",
              "      <th></th>\n",
              "      <th>time</th>\n",
              "      <th>amount</th>\n",
              "    </tr>\n",
              "  </thead>\n",
              "  <tbody>\n",
              "    <tr>\n",
              "      <th>count</th>\n",
              "      <td>284807.000000</td>\n",
              "      <td>284807.000000</td>\n",
              "    </tr>\n",
              "    <tr>\n",
              "      <th>mean</th>\n",
              "      <td>94813.859575</td>\n",
              "      <td>88.349619</td>\n",
              "    </tr>\n",
              "    <tr>\n",
              "      <th>std</th>\n",
              "      <td>47488.145955</td>\n",
              "      <td>250.120109</td>\n",
              "    </tr>\n",
              "    <tr>\n",
              "      <th>min</th>\n",
              "      <td>0.000000</td>\n",
              "      <td>0.000000</td>\n",
              "    </tr>\n",
              "    <tr>\n",
              "      <th>25%</th>\n",
              "      <td>54201.500000</td>\n",
              "      <td>5.600000</td>\n",
              "    </tr>\n",
              "    <tr>\n",
              "      <th>50%</th>\n",
              "      <td>84692.000000</td>\n",
              "      <td>22.000000</td>\n",
              "    </tr>\n",
              "    <tr>\n",
              "      <th>75%</th>\n",
              "      <td>139320.500000</td>\n",
              "      <td>77.165000</td>\n",
              "    </tr>\n",
              "    <tr>\n",
              "      <th>max</th>\n",
              "      <td>172792.000000</td>\n",
              "      <td>25691.160000</td>\n",
              "    </tr>\n",
              "  </tbody>\n",
              "</table>\n",
              "</div>\n",
              "      <button class=\"colab-df-convert\" onclick=\"convertToInteractive('df-48e2ee0f-05ef-4467-9209-d5f441e93a0f')\"\n",
              "              title=\"Convert this dataframe to an interactive table.\"\n",
              "              style=\"display:none;\">\n",
              "        \n",
              "  <svg xmlns=\"http://www.w3.org/2000/svg\" height=\"24px\"viewBox=\"0 0 24 24\"\n",
              "       width=\"24px\">\n",
              "    <path d=\"M0 0h24v24H0V0z\" fill=\"none\"/>\n",
              "    <path d=\"M18.56 5.44l.94 2.06.94-2.06 2.06-.94-2.06-.94-.94-2.06-.94 2.06-2.06.94zm-11 1L8.5 8.5l.94-2.06 2.06-.94-2.06-.94L8.5 2.5l-.94 2.06-2.06.94zm10 10l.94 2.06.94-2.06 2.06-.94-2.06-.94-.94-2.06-.94 2.06-2.06.94z\"/><path d=\"M17.41 7.96l-1.37-1.37c-.4-.4-.92-.59-1.43-.59-.52 0-1.04.2-1.43.59L10.3 9.45l-7.72 7.72c-.78.78-.78 2.05 0 2.83L4 21.41c.39.39.9.59 1.41.59.51 0 1.02-.2 1.41-.59l7.78-7.78 2.81-2.81c.8-.78.8-2.07 0-2.86zM5.41 20L4 18.59l7.72-7.72 1.47 1.35L5.41 20z\"/>\n",
              "  </svg>\n",
              "      </button>\n",
              "      \n",
              "  <style>\n",
              "    .colab-df-container {\n",
              "      display:flex;\n",
              "      flex-wrap:wrap;\n",
              "      gap: 12px;\n",
              "    }\n",
              "\n",
              "    .colab-df-convert {\n",
              "      background-color: #E8F0FE;\n",
              "      border: none;\n",
              "      border-radius: 50%;\n",
              "      cursor: pointer;\n",
              "      display: none;\n",
              "      fill: #1967D2;\n",
              "      height: 32px;\n",
              "      padding: 0 0 0 0;\n",
              "      width: 32px;\n",
              "    }\n",
              "\n",
              "    .colab-df-convert:hover {\n",
              "      background-color: #E2EBFA;\n",
              "      box-shadow: 0px 1px 2px rgba(60, 64, 67, 0.3), 0px 1px 3px 1px rgba(60, 64, 67, 0.15);\n",
              "      fill: #174EA6;\n",
              "    }\n",
              "\n",
              "    [theme=dark] .colab-df-convert {\n",
              "      background-color: #3B4455;\n",
              "      fill: #D2E3FC;\n",
              "    }\n",
              "\n",
              "    [theme=dark] .colab-df-convert:hover {\n",
              "      background-color: #434B5C;\n",
              "      box-shadow: 0px 1px 3px 1px rgba(0, 0, 0, 0.15);\n",
              "      filter: drop-shadow(0px 1px 2px rgba(0, 0, 0, 0.3));\n",
              "      fill: #FFFFFF;\n",
              "    }\n",
              "  </style>\n",
              "\n",
              "      <script>\n",
              "        const buttonEl =\n",
              "          document.querySelector('#df-48e2ee0f-05ef-4467-9209-d5f441e93a0f button.colab-df-convert');\n",
              "        buttonEl.style.display =\n",
              "          google.colab.kernel.accessAllowed ? 'block' : 'none';\n",
              "\n",
              "        async function convertToInteractive(key) {\n",
              "          const element = document.querySelector('#df-48e2ee0f-05ef-4467-9209-d5f441e93a0f');\n",
              "          const dataTable =\n",
              "            await google.colab.kernel.invokeFunction('convertToInteractive',\n",
              "                                                     [key], {});\n",
              "          if (!dataTable) return;\n",
              "\n",
              "          const docLinkHtml = 'Like what you see? Visit the ' +\n",
              "            '<a target=\"_blank\" href=https://colab.research.google.com/notebooks/data_table.ipynb>data table notebook</a>'\n",
              "            + ' to learn more about interactive tables.';\n",
              "          element.innerHTML = '';\n",
              "          dataTable['output_type'] = 'display_data';\n",
              "          await google.colab.output.renderOutput(dataTable, element);\n",
              "          const docLink = document.createElement('div');\n",
              "          docLink.innerHTML = docLinkHtml;\n",
              "          element.appendChild(docLink);\n",
              "        }\n",
              "      </script>\n",
              "    </div>\n",
              "  </div>\n",
              "  "
            ]
          },
          "metadata": {},
          "execution_count": 10
        }
      ]
    },
    {
      "cell_type": "markdown",
      "source": [
        "* Trung bình, mỗi giao dịch diễn ra sau mỗi 94813s\n",
        "* Số tiền giao dịch TB là 88.34 với độ lệch chuẩn 250, số tiền giao dịch lớn nhất là 25691\n",
        "* Dựa vào giá trị mean và max dễ dàng nhận thấy hai biến này có outliers"
      ],
      "metadata": {
        "id": "1ypH1Xr20cwX"
      }
    },
    {
      "cell_type": "code",
      "source": [
        "fraud = df[df['class']==1]\n",
        "normal = df[df['class']==0]\n",
        "print(f'Shape of Fraud Transactions: {fraud.shape}')\n",
        "print(f'Shape of Normal Transactions: {normal.shape}')"
      ],
      "metadata": {
        "colab": {
          "base_uri": "https://localhost:8080/"
        },
        "id": "I15RqJ1Y3N_g",
        "outputId": "2560c6a6-f50d-47a0-ae61-0397732aa518"
      },
      "execution_count": null,
      "outputs": [
        {
          "output_type": "stream",
          "name": "stdout",
          "text": [
            "Shape of Fraud Transactions: (492, 31)\n",
            "Shape of Normal Transactions: (284315, 31)\n"
          ]
        }
      ]
    },
    {
      "cell_type": "code",
      "source": [
        "pd.concat([fraud['amount'].describe(), normal['amount'].describe()], axis=1)"
      ],
      "metadata": {
        "colab": {
          "base_uri": "https://localhost:8080/",
          "height": 300
        },
        "id": "-h1n9Vl_30dO",
        "outputId": "0008dc47-66b6-4b07-c4a5-9d5ae9c90e78"
      },
      "execution_count": null,
      "outputs": [
        {
          "output_type": "execute_result",
          "data": {
            "text/plain": [
              "            amount         amount\n",
              "count   492.000000  284315.000000\n",
              "mean    122.211321      88.291022\n",
              "std     256.683288     250.105092\n",
              "min       0.000000       0.000000\n",
              "25%       1.000000       5.650000\n",
              "50%       9.250000      22.000000\n",
              "75%     105.890000      77.050000\n",
              "max    2125.870000   25691.160000"
            ],
            "text/html": [
              "\n",
              "  <div id=\"df-3bbc4d5f-9685-4d0a-ac8a-0953444a0d66\">\n",
              "    <div class=\"colab-df-container\">\n",
              "      <div>\n",
              "<style scoped>\n",
              "    .dataframe tbody tr th:only-of-type {\n",
              "        vertical-align: middle;\n",
              "    }\n",
              "\n",
              "    .dataframe tbody tr th {\n",
              "        vertical-align: top;\n",
              "    }\n",
              "\n",
              "    .dataframe thead th {\n",
              "        text-align: right;\n",
              "    }\n",
              "</style>\n",
              "<table border=\"1\" class=\"dataframe\">\n",
              "  <thead>\n",
              "    <tr style=\"text-align: right;\">\n",
              "      <th></th>\n",
              "      <th>amount</th>\n",
              "      <th>amount</th>\n",
              "    </tr>\n",
              "  </thead>\n",
              "  <tbody>\n",
              "    <tr>\n",
              "      <th>count</th>\n",
              "      <td>492.000000</td>\n",
              "      <td>284315.000000</td>\n",
              "    </tr>\n",
              "    <tr>\n",
              "      <th>mean</th>\n",
              "      <td>122.211321</td>\n",
              "      <td>88.291022</td>\n",
              "    </tr>\n",
              "    <tr>\n",
              "      <th>std</th>\n",
              "      <td>256.683288</td>\n",
              "      <td>250.105092</td>\n",
              "    </tr>\n",
              "    <tr>\n",
              "      <th>min</th>\n",
              "      <td>0.000000</td>\n",
              "      <td>0.000000</td>\n",
              "    </tr>\n",
              "    <tr>\n",
              "      <th>25%</th>\n",
              "      <td>1.000000</td>\n",
              "      <td>5.650000</td>\n",
              "    </tr>\n",
              "    <tr>\n",
              "      <th>50%</th>\n",
              "      <td>9.250000</td>\n",
              "      <td>22.000000</td>\n",
              "    </tr>\n",
              "    <tr>\n",
              "      <th>75%</th>\n",
              "      <td>105.890000</td>\n",
              "      <td>77.050000</td>\n",
              "    </tr>\n",
              "    <tr>\n",
              "      <th>max</th>\n",
              "      <td>2125.870000</td>\n",
              "      <td>25691.160000</td>\n",
              "    </tr>\n",
              "  </tbody>\n",
              "</table>\n",
              "</div>\n",
              "      <button class=\"colab-df-convert\" onclick=\"convertToInteractive('df-3bbc4d5f-9685-4d0a-ac8a-0953444a0d66')\"\n",
              "              title=\"Convert this dataframe to an interactive table.\"\n",
              "              style=\"display:none;\">\n",
              "        \n",
              "  <svg xmlns=\"http://www.w3.org/2000/svg\" height=\"24px\"viewBox=\"0 0 24 24\"\n",
              "       width=\"24px\">\n",
              "    <path d=\"M0 0h24v24H0V0z\" fill=\"none\"/>\n",
              "    <path d=\"M18.56 5.44l.94 2.06.94-2.06 2.06-.94-2.06-.94-.94-2.06-.94 2.06-2.06.94zm-11 1L8.5 8.5l.94-2.06 2.06-.94-2.06-.94L8.5 2.5l-.94 2.06-2.06.94zm10 10l.94 2.06.94-2.06 2.06-.94-2.06-.94-.94-2.06-.94 2.06-2.06.94z\"/><path d=\"M17.41 7.96l-1.37-1.37c-.4-.4-.92-.59-1.43-.59-.52 0-1.04.2-1.43.59L10.3 9.45l-7.72 7.72c-.78.78-.78 2.05 0 2.83L4 21.41c.39.39.9.59 1.41.59.51 0 1.02-.2 1.41-.59l7.78-7.78 2.81-2.81c.8-.78.8-2.07 0-2.86zM5.41 20L4 18.59l7.72-7.72 1.47 1.35L5.41 20z\"/>\n",
              "  </svg>\n",
              "      </button>\n",
              "      \n",
              "  <style>\n",
              "    .colab-df-container {\n",
              "      display:flex;\n",
              "      flex-wrap:wrap;\n",
              "      gap: 12px;\n",
              "    }\n",
              "\n",
              "    .colab-df-convert {\n",
              "      background-color: #E8F0FE;\n",
              "      border: none;\n",
              "      border-radius: 50%;\n",
              "      cursor: pointer;\n",
              "      display: none;\n",
              "      fill: #1967D2;\n",
              "      height: 32px;\n",
              "      padding: 0 0 0 0;\n",
              "      width: 32px;\n",
              "    }\n",
              "\n",
              "    .colab-df-convert:hover {\n",
              "      background-color: #E2EBFA;\n",
              "      box-shadow: 0px 1px 2px rgba(60, 64, 67, 0.3), 0px 1px 3px 1px rgba(60, 64, 67, 0.15);\n",
              "      fill: #174EA6;\n",
              "    }\n",
              "\n",
              "    [theme=dark] .colab-df-convert {\n",
              "      background-color: #3B4455;\n",
              "      fill: #D2E3FC;\n",
              "    }\n",
              "\n",
              "    [theme=dark] .colab-df-convert:hover {\n",
              "      background-color: #434B5C;\n",
              "      box-shadow: 0px 1px 3px 1px rgba(0, 0, 0, 0.15);\n",
              "      filter: drop-shadow(0px 1px 2px rgba(0, 0, 0, 0.3));\n",
              "      fill: #FFFFFF;\n",
              "    }\n",
              "  </style>\n",
              "\n",
              "      <script>\n",
              "        const buttonEl =\n",
              "          document.querySelector('#df-3bbc4d5f-9685-4d0a-ac8a-0953444a0d66 button.colab-df-convert');\n",
              "        buttonEl.style.display =\n",
              "          google.colab.kernel.accessAllowed ? 'block' : 'none';\n",
              "\n",
              "        async function convertToInteractive(key) {\n",
              "          const element = document.querySelector('#df-3bbc4d5f-9685-4d0a-ac8a-0953444a0d66');\n",
              "          const dataTable =\n",
              "            await google.colab.kernel.invokeFunction('convertToInteractive',\n",
              "                                                     [key], {});\n",
              "          if (!dataTable) return;\n",
              "\n",
              "          const docLinkHtml = 'Like what you see? Visit the ' +\n",
              "            '<a target=\"_blank\" href=https://colab.research.google.com/notebooks/data_table.ipynb>data table notebook</a>'\n",
              "            + ' to learn more about interactive tables.';\n",
              "          element.innerHTML = '';\n",
              "          dataTable['output_type'] = 'display_data';\n",
              "          await google.colab.output.renderOutput(dataTable, element);\n",
              "          const docLink = document.createElement('div');\n",
              "          docLink.innerHTML = docLinkHtml;\n",
              "          element.appendChild(docLink);\n",
              "        }\n",
              "      </script>\n",
              "    </div>\n",
              "  </div>\n",
              "  "
            ]
          },
          "metadata": {},
          "execution_count": 12
        }
      ]
    },
    {
      "cell_type": "code",
      "source": [
        "fraud['amount'].value_counts().head()"
      ],
      "metadata": {
        "colab": {
          "base_uri": "https://localhost:8080/"
        },
        "id": "anuGv13x5dJu",
        "outputId": "fa268121-72ee-4a8e-ffdf-c39ea315b9c5"
      },
      "execution_count": null,
      "outputs": [
        {
          "output_type": "execute_result",
          "data": {
            "text/plain": [
              "1.00     113\n",
              "0.00      27\n",
              "99.99     27\n",
              "0.76      17\n",
              "0.77      10\n",
              "Name: amount, dtype: int64"
            ]
          },
          "metadata": {},
          "execution_count": 13
        }
      ]
    },
    {
      "cell_type": "markdown",
      "source": [
        "* Với những giao dịch gian lận, số tiền bị gian lận TB là 122.22 USD, cao nhất là 2125 USD, thấp nhất là 0 và số tiền bị nhiều nhất là 1USD với 113 lần.\n"
      ],
      "metadata": {
        "id": "aKcKU_Ei5UGs"
      }
    },
    {
      "cell_type": "markdown",
      "source": [
        "###Distribution of Time"
      ],
      "metadata": {
        "id": "Cq7WoanD9qQl"
      }
    },
    {
      "cell_type": "code",
      "source": [
        "plt.figure(figsize=(8,6))\n",
        "plt.title('Distribution of Transaction Time', fontsize=14)\n",
        "sns.distplot(df['time'], bins=100)\n",
        "plt.show()"
      ],
      "metadata": {
        "colab": {
          "base_uri": "https://localhost:8080/"
        },
        "id": "-0fBwKPg9tie",
        "outputId": "fc8c701b-1515-4472-c807-24445ac95986"
      },
      "execution_count": null,
      "outputs": [
        {
          "output_type": "display_data",
          "data": {
            "text/plain": [
              "<Figure size 576x432 with 1 Axes>"
            ],
            "image/png": "[encoded data removed]"
          },
          "metadata": {
            "needs_background": "light"
          }
        }
      ]
    },
    {
      "cell_type": "markdown",
      "source": [
        "* Bộ dữ liệu này chứa thông tin giao dịch trong hai ngày, nhìn vào biểu đồ phân phối ta thấy có hai đỉnh và hai đáy. Khả năng cao hai đỉnh là các giao dịch vào ban ngày vì có số lượng giao dịch nhiều, còn ở hai đáy là các giao dịch vào ban đêm lúc đó mọi người đã đi ngủ"
      ],
      "metadata": {
        "id": "wWA__IG-9yPJ"
      }
    },
    {
      "cell_type": "code",
      "source": [
        "fig, axs = plt.subplots(ncols=2, figsize=(16,4))\n",
        "\n",
        "sns.distplot(fraud['time'], bins=100, color='red', ax=axs[0])\n",
        "axs[0].set_title(\"Distribution of Fraud Transactions\")\n",
        "\n",
        "sns.distplot(normal['time'], bins=100, color='green', ax=axs[1])\n",
        "axs[1].set_title(\"Distribution of Genuine Transactions\")\n",
        "\n",
        "plt.show()"
      ],
      "metadata": {
        "colab": {
          "base_uri": "https://localhost:8080/"
        },
        "id": "T9XL6mqNAxar",
        "outputId": "bf4b0781-9991-4c7c-de0b-0ed5691f4359"
      },
      "execution_count": null,
      "outputs": [
        {
          "output_type": "display_data",
          "data": {
            "text/plain": [
              "<Figure size 1152x288 with 2 Axes>"
            ],
            "image/png": "[encoded data removed]"
          },
          "metadata": {
            "needs_background": "light"
          }
        }
      ]
    },
    {
      "cell_type": "markdown",
      "source": [
        "###Distribution of Amount"
      ],
      "metadata": {
        "id": "g1wjtXiyF3wr"
      }
    },
    {
      "cell_type": "code",
      "source": [
        "fig, axs = plt.subplots(ncols=2,figsize=(16,4))\n",
        "sns.distplot(fraud['amount'], bins=100, ax=axs[0])\n",
        "axs[0].set_title(\"Distribution of Fraud Transactions\")\n",
        "\n",
        "sns.distplot(normal['amount'], bins=100, ax=axs[1])\n",
        "axs[1].set_title(\"Distribution of Normal Transactions\")\n",
        "\n",
        "plt.show()"
      ],
      "metadata": {
        "id": "1xXdoklwF6dn",
        "colab": {
          "base_uri": "https://localhost:8080/",
          "height": 291
        },
        "outputId": "31ef3b3f-45c2-4460-b53d-a9ab376cde15"
      },
      "execution_count": null,
      "outputs": [
        {
          "output_type": "display_data",
          "data": {
            "text/plain": [
              "<Figure size 1152x288 with 2 Axes>"
            ],
            "image/png": "[encoded data removed]"
          },
          "metadata": {
            "needs_background": "light"
          }
        }
      ]
    },
    {
      "cell_type": "code",
      "source": [
        "# Scale amount by log\n",
        "# Cộng thêm một đại lượng nhỏ 0.0001 để giá trị log gần 0 dương vô cùng\n",
        "df['amount_log'] = np.log(df.amount + 0.0001)"
      ],
      "metadata": {
        "id": "NCdGANyL77qz"
      },
      "execution_count": null,
      "outputs": []
    },
    {
      "cell_type": "markdown",
      "source": [
        "Phép biến đổi Log rất hữu ích khi được áp dụng cho các phân phối lệch vì chúng có xu hướng mở rộng các giá trị nằm trong phạm vi cường độ thấp hơn và có xu hướng nén hoặc giảm các giá trị nằm trong phạm vi cường độ cao hơn"
      ],
      "metadata": {
        "id": "4R0FPVR57zbc"
      }
    },
    {
      "cell_type": "code",
      "source": [
        "df.head()"
      ],
      "metadata": {
        "colab": {
          "base_uri": "https://localhost:8080/",
          "height": 300
        },
        "id": "2GQ13FkfBSV5",
        "outputId": "80439021-f2e1-4f8c-c3df-65f97c661404"
      },
      "execution_count": null,
      "outputs": [
        {
          "output_type": "execute_result",
          "data": {
            "text/plain": [
              "   time        v1        v2        v3        v4        v5        v6        v7  \\\n",
              "0   0.0 -1.359807 -0.072781  2.536347  1.378155 -0.338321  0.462388  0.239599   \n",
              "1   0.0  1.191857  0.266151  0.166480  0.448154  0.060018 -0.082361 -0.078803   \n",
              "2   1.0 -1.358354 -1.340163  1.773209  0.379780 -0.503198  1.800499  0.791461   \n",
              "3   1.0 -0.966272 -0.185226  1.792993 -0.863291 -0.010309  1.247203  0.237609   \n",
              "4   2.0 -1.158233  0.877737  1.548718  0.403034 -0.407193  0.095921  0.592941   \n",
              "\n",
              "         v8        v9  ...       v22       v23       v24       v25       v26  \\\n",
              "0  0.098698  0.363787  ...  0.277838 -0.110474  0.066928  0.128539 -0.189115   \n",
              "1  0.085102 -0.255425  ... -0.638672  0.101288 -0.339846  0.167170  0.125895   \n",
              "2  0.247676 -1.514654  ...  0.771679  0.909412 -0.689281 -0.327642 -0.139097   \n",
              "3  0.377436 -1.387024  ...  0.005274 -0.190321 -1.175575  0.647376 -0.221929   \n",
              "4 -0.270533  0.817739  ...  0.798278 -0.137458  0.141267 -0.206010  0.502292   \n",
              "\n",
              "        v27       v28  amount  class  amount_log  \n",
              "0  0.133558 -0.021053  149.62      0    5.008099  \n",
              "1 -0.008983  0.014724    2.69      0    0.989578  \n",
              "2 -0.055353 -0.059752  378.66      0    5.936639  \n",
              "3  0.062723  0.061458  123.50      0    4.816242  \n",
              "4  0.219422  0.215153   69.99      0    4.248354  \n",
              "\n",
              "[5 rows x 32 columns]"
            ],
            "text/html": [
              "\n",
              "  <div id=\"df-8a9d2c13-59ae-4bda-9e83-9159ff88e938\">\n",
              "    <div class=\"colab-df-container\">\n",
              "      <div>\n",
              "<style scoped>\n",
              "    .dataframe tbody tr th:only-of-type {\n",
              "        vertical-align: middle;\n",
              "    }\n",
              "\n",
              "    .dataframe tbody tr th {\n",
              "        vertical-align: top;\n",
              "    }\n",
              "\n",
              "    .dataframe thead th {\n",
              "        text-align: right;\n",
              "    }\n",
              "</style>\n",
              "<table border=\"1\" class=\"dataframe\">\n",
              "  <thead>\n",
              "    <tr style=\"text-align: right;\">\n",
              "      <th></th>\n",
              "      <th>time</th>\n",
              "      <th>v1</th>\n",
              "      <th>v2</th>\n",
              "      <th>v3</th>\n",
              "      <th>v4</th>\n",
              "      <th>v5</th>\n",
              "      <th>v6</th>\n",
              "      <th>v7</th>\n",
              "      <th>v8</th>\n",
              "      <th>v9</th>\n",
              "      <th>...</th>\n",
              "      <th>v22</th>\n",
              "      <th>v23</th>\n",
              "      <th>v24</th>\n",
              "      <th>v25</th>\n",
              "      <th>v26</th>\n",
              "      <th>v27</th>\n",
              "      <th>v28</th>\n",
              "      <th>amount</th>\n",
              "      <th>class</th>\n",
              "      <th>amount_log</th>\n",
              "    </tr>\n",
              "  </thead>\n",
              "  <tbody>\n",
              "    <tr>\n",
              "      <th>0</th>\n",
              "      <td>0.0</td>\n",
              "      <td>-1.359807</td>\n",
              "      <td>-0.072781</td>\n",
              "      <td>2.536347</td>\n",
              "      <td>1.378155</td>\n",
              "      <td>-0.338321</td>\n",
              "      <td>0.462388</td>\n",
              "      <td>0.239599</td>\n",
              "      <td>0.098698</td>\n",
              "      <td>0.363787</td>\n",
              "      <td>...</td>\n",
              "      <td>0.277838</td>\n",
              "      <td>-0.110474</td>\n",
              "      <td>0.066928</td>\n",
              "      <td>0.128539</td>\n",
              "      <td>-0.189115</td>\n",
              "      <td>0.133558</td>\n",
              "      <td>-0.021053</td>\n",
              "      <td>149.62</td>\n",
              "      <td>0</td>\n",
              "      <td>5.008099</td>\n",
              "    </tr>\n",
              "    <tr>\n",
              "      <th>1</th>\n",
              "      <td>0.0</td>\n",
              "      <td>1.191857</td>\n",
              "      <td>0.266151</td>\n",
              "      <td>0.166480</td>\n",
              "      <td>0.448154</td>\n",
              "      <td>0.060018</td>\n",
              "      <td>-0.082361</td>\n",
              "      <td>-0.078803</td>\n",
              "      <td>0.085102</td>\n",
              "      <td>-0.255425</td>\n",
              "      <td>...</td>\n",
              "      <td>-0.638672</td>\n",
              "      <td>0.101288</td>\n",
              "      <td>-0.339846</td>\n",
              "      <td>0.167170</td>\n",
              "      <td>0.125895</td>\n",
              "      <td>-0.008983</td>\n",
              "      <td>0.014724</td>\n",
              "      <td>2.69</td>\n",
              "      <td>0</td>\n",
              "      <td>0.989578</td>\n",
              "    </tr>\n",
              "    <tr>\n",
              "      <th>2</th>\n",
              "      <td>1.0</td>\n",
              "      <td>-1.358354</td>\n",
              "      <td>-1.340163</td>\n",
              "      <td>1.773209</td>\n",
              "      <td>0.379780</td>\n",
              "      <td>-0.503198</td>\n",
              "      <td>1.800499</td>\n",
              "      <td>0.791461</td>\n",
              "      <td>0.247676</td>\n",
              "      <td>-1.514654</td>\n",
              "      <td>...</td>\n",
              "      <td>0.771679</td>\n",
              "      <td>0.909412</td>\n",
              "      <td>-0.689281</td>\n",
              "      <td>-0.327642</td>\n",
              "      <td>-0.139097</td>\n",
              "      <td>-0.055353</td>\n",
              "      <td>-0.059752</td>\n",
              "      <td>378.66</td>\n",
              "      <td>0</td>\n",
              "      <td>5.936639</td>\n",
              "    </tr>\n",
              "    <tr>\n",
              "      <th>3</th>\n",
              "      <td>1.0</td>\n",
              "      <td>-0.966272</td>\n",
              "      <td>-0.185226</td>\n",
              "      <td>1.792993</td>\n",
              "      <td>-0.863291</td>\n",
              "      <td>-0.010309</td>\n",
              "      <td>1.247203</td>\n",
              "      <td>0.237609</td>\n",
              "      <td>0.377436</td>\n",
              "      <td>-1.387024</td>\n",
              "      <td>...</td>\n",
              "      <td>0.005274</td>\n",
              "      <td>-0.190321</td>\n",
              "      <td>-1.175575</td>\n",
              "      <td>0.647376</td>\n",
              "      <td>-0.221929</td>\n",
              "      <td>0.062723</td>\n",
              "      <td>0.061458</td>\n",
              "      <td>123.50</td>\n",
              "      <td>0</td>\n",
              "      <td>4.816242</td>\n",
              "    </tr>\n",
              "    <tr>\n",
              "      <th>4</th>\n",
              "      <td>2.0</td>\n",
              "      <td>-1.158233</td>\n",
              "      <td>0.877737</td>\n",
              "      <td>1.548718</td>\n",
              "      <td>0.403034</td>\n",
              "      <td>-0.407193</td>\n",
              "      <td>0.095921</td>\n",
              "      <td>0.592941</td>\n",
              "      <td>-0.270533</td>\n",
              "      <td>0.817739</td>\n",
              "      <td>...</td>\n",
              "      <td>0.798278</td>\n",
              "      <td>-0.137458</td>\n",
              "      <td>0.141267</td>\n",
              "      <td>-0.206010</td>\n",
              "      <td>0.502292</td>\n",
              "      <td>0.219422</td>\n",
              "      <td>0.215153</td>\n",
              "      <td>69.99</td>\n",
              "      <td>0</td>\n",
              "      <td>4.248354</td>\n",
              "    </tr>\n",
              "  </tbody>\n",
              "</table>\n",
              "<p>5 rows × 32 columns</p>\n",
              "</div>\n",
              "      <button class=\"colab-df-convert\" onclick=\"convertToInteractive('df-8a9d2c13-59ae-4bda-9e83-9159ff88e938')\"\n",
              "              title=\"Convert this dataframe to an interactive table.\"\n",
              "              style=\"display:none;\">\n",
              "        \n",
              "  <svg xmlns=\"http://www.w3.org/2000/svg\" height=\"24px\"viewBox=\"0 0 24 24\"\n",
              "       width=\"24px\">\n",
              "    <path d=\"M0 0h24v24H0V0z\" fill=\"none\"/>\n",
              "    <path d=\"M18.56 5.44l.94 2.06.94-2.06 2.06-.94-2.06-.94-.94-2.06-.94 2.06-2.06.94zm-11 1L8.5 8.5l.94-2.06 2.06-.94-2.06-.94L8.5 2.5l-.94 2.06-2.06.94zm10 10l.94 2.06.94-2.06 2.06-.94-2.06-.94-.94-2.06-.94 2.06-2.06.94z\"/><path d=\"M17.41 7.96l-1.37-1.37c-.4-.4-.92-.59-1.43-.59-.52 0-1.04.2-1.43.59L10.3 9.45l-7.72 7.72c-.78.78-.78 2.05 0 2.83L4 21.41c.39.39.9.59 1.41.59.51 0 1.02-.2 1.41-.59l7.78-7.78 2.81-2.81c.8-.78.8-2.07 0-2.86zM5.41 20L4 18.59l7.72-7.72 1.47 1.35L5.41 20z\"/>\n",
              "  </svg>\n",
              "      </button>\n",
              "      \n",
              "  <style>\n",
              "    .colab-df-container {\n",
              "      display:flex;\n",
              "      flex-wrap:wrap;\n",
              "      gap: 12px;\n",
              "    }\n",
              "\n",
              "    .colab-df-convert {\n",
              "      background-color: #E8F0FE;\n",
              "      border: none;\n",
              "      border-radius: 50%;\n",
              "      cursor: pointer;\n",
              "      display: none;\n",
              "      fill: #1967D2;\n",
              "      height: 32px;\n",
              "      padding: 0 0 0 0;\n",
              "      width: 32px;\n",
              "    }\n",
              "\n",
              "    .colab-df-convert:hover {\n",
              "      background-color: #E2EBFA;\n",
              "      box-shadow: 0px 1px 2px rgba(60, 64, 67, 0.3), 0px 1px 3px 1px rgba(60, 64, 67, 0.15);\n",
              "      fill: #174EA6;\n",
              "    }\n",
              "\n",
              "    [theme=dark] .colab-df-convert {\n",
              "      background-color: #3B4455;\n",
              "      fill: #D2E3FC;\n",
              "    }\n",
              "\n",
              "    [theme=dark] .colab-df-convert:hover {\n",
              "      background-color: #434B5C;\n",
              "      box-shadow: 0px 1px 3px 1px rgba(0, 0, 0, 0.15);\n",
              "      filter: drop-shadow(0px 1px 2px rgba(0, 0, 0, 0.3));\n",
              "      fill: #FFFFFF;\n",
              "    }\n",
              "  </style>\n",
              "\n",
              "      <script>\n",
              "        const buttonEl =\n",
              "          document.querySelector('#df-8a9d2c13-59ae-4bda-9e83-9159ff88e938 button.colab-df-convert');\n",
              "        buttonEl.style.display =\n",
              "          google.colab.kernel.accessAllowed ? 'block' : 'none';\n",
              "\n",
              "        async function convertToInteractive(key) {\n",
              "          const element = document.querySelector('#df-8a9d2c13-59ae-4bda-9e83-9159ff88e938');\n",
              "          const dataTable =\n",
              "            await google.colab.kernel.invokeFunction('convertToInteractive',\n",
              "                                                     [key], {});\n",
              "          if (!dataTable) return;\n",
              "\n",
              "          const docLinkHtml = 'Like what you see? Visit the ' +\n",
              "            '<a target=\"_blank\" href=https://colab.research.google.com/notebooks/data_table.ipynb>data table notebook</a>'\n",
              "            + ' to learn more about interactive tables.';\n",
              "          element.innerHTML = '';\n",
              "          dataTable['output_type'] = 'display_data';\n",
              "          await google.colab.output.renderOutput(dataTable, element);\n",
              "          const docLink = document.createElement('div');\n",
              "          docLink.innerHTML = docLinkHtml;\n",
              "          element.appendChild(docLink);\n",
              "        }\n",
              "      </script>\n",
              "    </div>\n",
              "  </div>\n",
              "  "
            ]
          },
          "metadata": {},
          "execution_count": 18
        }
      ]
    },
    {
      "cell_type": "markdown",
      "source": [
        "##Spliting the data"
      ],
      "metadata": {
        "id": "99gjO7BpBirD"
      }
    },
    {
      "cell_type": "code",
      "source": [
        "X = df.drop(['class','time'], axis=1)\n",
        "\n",
        "y = df['class']"
      ],
      "metadata": {
        "id": "CtjrENUYBiRD"
      },
      "execution_count": null,
      "outputs": []
    },
    {
      "cell_type": "code",
      "source": [
        "# split X and y into training and testing sets\n",
        "\n",
        "from sklearn.model_selection import train_test_split\n",
        "\n",
        "X_train, X_test, y_train, y_test = train_test_split(X, y, test_size = 0.2, random_state = 0)\n",
        "\n",
        "X_train.shape, X_test.shape"
      ],
      "metadata": {
        "colab": {
          "base_uri": "https://localhost:8080/"
        },
        "id": "cnC683hoBxdP",
        "outputId": "71fe1b16-6bc1-4dd6-fb37-73e2bead6276"
      },
      "execution_count": null,
      "outputs": [
        {
          "output_type": "execute_result",
          "data": {
            "text/plain": [
              "((227845, 30), (56962, 30))"
            ]
          },
          "metadata": {},
          "execution_count": 20
        }
      ]
    },
    {
      "cell_type": "markdown",
      "source": [
        "##Scaling the data"
      ],
      "metadata": {
        "id": "o3MISRE-B9-X"
      }
    },
    {
      "cell_type": "code",
      "source": [
        "from sklearn.preprocessing import RobustScaler\n",
        "\n",
        "scaler = RobustScaler()\n",
        "\n",
        "X_train = scaler.fit_transform(X_train)\n",
        "\n",
        "X_test = scaler.transform(X_test)"
      ],
      "metadata": {
        "id": "7pafbag8B7tf"
      },
      "execution_count": null,
      "outputs": []
    },
    {
      "cell_type": "markdown",
      "source": [
        "##SMOTE"
      ],
      "metadata": {
        "id": "txH-jqFICE84"
      }
    },
    {
      "cell_type": "code",
      "source": [
        "from collections import Counter\n",
        "from imblearn.over_sampling import SMOTE\n",
        "print('Original dataset shape %s' % Counter(y_train))\n",
        "\n",
        "smt = SMOTE(random_state=42)\n",
        "X_train_smt, y_train_smt = smt.fit_resample(X_train, y_train)\n",
        "\n",
        "print('Resampled dataset shape %s' % Counter(y_train_smt))"
      ],
      "metadata": {
        "colab": {
          "base_uri": "https://localhost:8080/"
        },
        "id": "_z5JzL0kCGvr",
        "outputId": "3219e529-43b5-4a97-ac9a-463e8a155009"
      },
      "execution_count": null,
      "outputs": [
        {
          "output_type": "stream",
          "name": "stdout",
          "text": [
            "Original dataset shape Counter({0: 227454, 1: 391})\n",
            "Resampled dataset shape Counter({0: 227454, 1: 227454})\n"
          ]
        }
      ]
    },
    {
      "cell_type": "markdown",
      "source": [
        "##Modeling"
      ],
      "metadata": {
        "id": "a7aTGku3Dr3t"
      }
    },
    {
      "cell_type": "code",
      "source": [
        "def plot_roc_cur(fper, tper):  \n",
        "    plt.plot(fper, tper, color='orange', label='ROC')\n",
        "    plt.plot([0, 1], [0, 1], color='darkblue', linestyle='--')\n",
        "    plt.xlabel('False Positive Rate')\n",
        "    plt.ylabel('True Positive Rate')\n",
        "    plt.title('Receiver Operating Characteristic (ROC) Curve')\n",
        "    plt.legend()\n",
        "    plt.show()"
      ],
      "metadata": {
        "id": "yAQbzTfUDtew"
      },
      "execution_count": null,
      "outputs": []
    },
    {
      "cell_type": "code",
      "source": [
        "import time\n",
        "from sklearn.metrics import accuracy_score, roc_auc_score, precision_score, recall_score, f1_score, cohen_kappa_score, plot_confusion_matrix, roc_curve, classification_report\n",
        "def run_model(model, X_train, y_train, X_test, y_test, verbose=True):\n",
        "    t0=time.time()\n",
        "    if verbose == False:\n",
        "        model.fit(X_train,y_train, verbose=0)\n",
        "    else:\n",
        "        model.fit(X_train,y_train)\n",
        "    y_pred = model.predict(X_test)\n",
        "    accuracy = accuracy_score(y_test, y_pred)\n",
        "    roc_auc = roc_auc_score(y_test, y_pred)\n",
        "    precision = precision_score(y_test, y_pred)\n",
        "    recall = recall_score(y_test, y_pred)\n",
        "    f1 = f1_score(y_test, y_pred)\n",
        "    coh_kap = cohen_kappa_score(y_test, y_pred)\n",
        "    time_taken = time.time()-t0\n",
        "    print(\"Accuracy = {}\".format(accuracy))\n",
        "    print(\"ROC Area under Curve = {}\".format(roc_auc))\n",
        "    #print(\"Precision  = {}\".format(precision))\n",
        "    #print(\"Recall  = {}\".format(recall))\n",
        "    print(\"F1 Score  = {}\".format(f1))\n",
        "    print(\"Cohen's Kappa = {}\".format(coh_kap))\n",
        "    print(\"Time taken = {}\".format(time_taken))\n",
        "    print(classification_report(y_test,y_pred,digits=5))\n",
        "    \n",
        "    probs = model.predict_proba(X_test)  \n",
        "    probs = probs[:, 1]  \n",
        "    fper, tper, thresholds = roc_curve(y_test, probs) \n",
        "    plot_roc_cur(fper, tper)\n",
        "    \n",
        "    plot_confusion_matrix(model, X_test, y_test,cmap=plt.cm.Blues)\n",
        "    \n",
        "    return model, accuracy, roc_auc, f1, coh_kap, time_taken"
      ],
      "metadata": {
        "id": "dN0H_rm5DwmK"
      },
      "execution_count": null,
      "outputs": []
    },
    {
      "cell_type": "markdown",
      "source": [
        "###Logistic Regression"
      ],
      "metadata": {
        "id": "itf8NUX_HZKm"
      }
    },
    {
      "cell_type": "code",
      "source": [
        "# Logistic Regression with SMOTE\n",
        "from sklearn.linear_model import LogisticRegression\n",
        "\n",
        "params_lr = {'penalty': 'l1', 'solver':'liblinear'}\n",
        "\n",
        "model_lrsmt = LogisticRegression(**params_lr)\n",
        "model_lrsmt, accuracy_lrsmt, roc_auc_lrsmt,f1_score_lrsmt,coh_kap_lrsmt, tt_lrsmt = run_model(model_lrsmt, X_train_smt, y_train_smt, X_test, y_test)"
      ],
      "metadata": {
        "colab": {
          "base_uri": "https://localhost:8080/",
          "height": 800
        },
        "id": "KEMbXrFmHasZ",
        "outputId": "a85614b7-a2cb-472e-87a8-4c780f0dfe3d"
      },
      "execution_count": null,
      "outputs": [
        {
          "output_type": "stream",
          "name": "stdout",
          "text": [
            "Accuracy = 0.9757733225659211\n",
            "ROC Area under Curve = 0.958214934769712\n",
            "F1 Score  = 0.12101910828025476\n",
            "Cohen's Kappa = 0.1180928601987834\n",
            "Time taken = 44.858938694000244\n",
            "              precision    recall  f1-score   support\n",
            "\n",
            "           0    0.99989   0.97584   0.98772     56861\n",
            "           1    0.06467   0.94059   0.12102       101\n",
            "\n",
            "    accuracy                        0.97577     56962\n",
            "   macro avg    0.53228   0.95821   0.55437     56962\n",
            "weighted avg    0.99823   0.97577   0.98618     56962\n",
            "\n"
          ]
        },
        {
          "output_type": "display_data",
          "data": {
            "text/plain": [
              "<Figure size 432x288 with 1 Axes>"
            ],
            "image/png": "[encoded data removed]"
          },
          "metadata": {
            "needs_background": "light"
          }
        },
        {
          "output_type": "display_data",
          "data": {
            "text/plain": [
              "<Figure size 432x288 with 2 Axes>"
            ],
            "image/png": "[encoded data removed]"
          },
          "metadata": {
            "needs_background": "light"
          }
        }
      ]
    },
    {
      "cell_type": "markdown",
      "source": [
        "###Decision Tree"
      ],
      "metadata": {
        "id": "a9W4hnLeHnml"
      }
    },
    {
      "cell_type": "code",
      "source": [
        "# Decision Tree\n",
        "from sklearn.tree import DecisionTreeClassifier\n",
        "\n",
        "params_dt = {'max_depth': 16,\n",
        "             'max_features': \"sqrt\"}\n",
        "\n",
        "model_dtsmt = DecisionTreeClassifier(**params_dt)\n",
        "model_dtsmt, accuracy_dtsmt, roc_auc_dtsmt, f1_score_dtsmt,coh_kap_dtsmt, tt_dtsmt = run_model(model_dtsmt, X_train_smt, y_train_smt, X_test, y_test)"
      ],
      "metadata": {
        "colab": {
          "base_uri": "https://localhost:8080/",
          "height": 800
        },
        "id": "K3aAtl15HqeQ",
        "outputId": "b59dbbe7-d588-4dfe-d953-cd0bab76569e"
      },
      "execution_count": null,
      "outputs": [
        {
          "output_type": "stream",
          "name": "stdout",
          "text": [
            "Accuracy = 0.9939608862048384\n",
            "ROC Area under Curve = 0.908024449408589\n",
            "F1 Score  = 0.3254901960784314\n",
            "Cohen's Kappa = 0.32356646481866436\n",
            "Time taken = 6.7982823848724365\n",
            "              precision    recall  f1-score   support\n",
            "\n",
            "           0    0.99968   0.99427   0.99697     56861\n",
            "           1    0.20293   0.82178   0.32549       101\n",
            "\n",
            "    accuracy                        0.99396     56962\n",
            "   macro avg    0.60131   0.90802   0.66123     56962\n",
            "weighted avg    0.99827   0.99396   0.99578     56962\n",
            "\n"
          ]
        },
        {
          "output_type": "display_data",
          "data": {
            "text/plain": [
              "<Figure size 432x288 with 1 Axes>"
            ],
            "image/png": "[encoded data removed]"
          },
          "metadata": {
            "needs_background": "light"
          }
        },
        {
          "output_type": "display_data",
          "data": {
            "text/plain": [
              "<Figure size 432x288 with 2 Axes>"
            ],
            "image/png": "[encoded data removed]"
          },
          "metadata": {
            "needs_background": "light"
          }
        }
      ]
    },
    {
      "cell_type": "markdown",
      "source": [
        "###Random Forest"
      ],
      "metadata": {
        "id": "s-tlo-UBIBge"
      }
    },
    {
      "cell_type": "code",
      "source": [
        "# Random Forest with SMOTE\n",
        "from sklearn.ensemble import RandomForestClassifier\n",
        "\n",
        "model_rfsmt = RandomForestClassifier()\n",
        "model_rfsmt, accuracy_rfsmt, roc_auc_rfsmt, f1_score_rfsmt,coh_kap_rfsmt, tt_rfsmt = run_model(model_rfsmt, X_train_smt, y_train_smt, X_test, y_test)"
      ],
      "metadata": {
        "colab": {
          "base_uri": "https://localhost:8080/",
          "height": 800
        },
        "id": "qy-cTFDCIpiq",
        "outputId": "7e92d57b-3758-4593-e08b-c9adf5bf2fb9"
      },
      "execution_count": null,
      "outputs": [
        {
          "output_type": "stream",
          "name": "stdout",
          "text": [
            "Accuracy = 0.9994908886626171\n",
            "ROC Area under Curve = 0.9256194670310315\n",
            "F1 Score  = 0.8557213930348259\n",
            "Cohen's Kappa = 0.8554663937741017\n",
            "Time taken = 504.0955595970154\n",
            "              precision    recall  f1-score   support\n",
            "\n",
            "           0    0.99974   0.99975   0.99974     56861\n",
            "           1    0.86000   0.85149   0.85572       101\n",
            "\n",
            "    accuracy                        0.99949     56962\n",
            "   macro avg    0.92987   0.92562   0.92773     56962\n",
            "weighted avg    0.99949   0.99949   0.99949     56962\n",
            "\n"
          ]
        },
        {
          "output_type": "display_data",
          "data": {
            "text/plain": [
              "<Figure size 432x288 with 1 Axes>"
            ],
            "image/png": "[encoded data removed]"
          },
          "metadata": {
            "needs_background": "light"
          }
        },
        {
          "output_type": "display_data",
          "data": {
            "text/plain": [
              "<Figure size 432x288 with 2 Axes>"
            ],
            "image/png": "[encoded data removed]"
          },
          "metadata": {
            "needs_background": "light"
          }
        }
      ]
    },
    {
      "cell_type": "markdown",
      "source": [
        "###LightGBM"
      ],
      "metadata": {
        "id": "9gufSfA7JEzR"
      }
    },
    {
      "cell_type": "code",
      "source": [
        "# Light GBM with SMOTE\n",
        "import lightgbm as lgb\n",
        "\n",
        "model_lgbsmt = lgb.LGBMClassifier()\n",
        "model_lgbsmt, accuracy_lgbsmt, roc_auc_lgbsmt, f1_score_lgbsmt,coh_kap_lgbsmt, tt_lgbsmt = run_model(model_lgbsmt, X_train_smt, y_train_smt, X_test, y_test)"
      ],
      "metadata": {
        "colab": {
          "base_uri": "https://localhost:8080/",
          "height": 800
        },
        "id": "AsFwZElhJGkz",
        "outputId": "f650cc90-46b8-4c45-a823-30d65a797953"
      },
      "execution_count": null,
      "outputs": [
        {
          "output_type": "stream",
          "name": "stdout",
          "text": [
            "Accuracy = 0.9985077771145676\n",
            "ROC Area under Curve = 0.8954768280683083\n",
            "F1 Score  = 0.6530612244897959\n",
            "Cohen's Kappa = 0.6523365857658603\n",
            "Time taken = 11.434115648269653\n",
            "              precision    recall  f1-score   support\n",
            "\n",
            "           0    0.99963   0.99887   0.99925     56861\n",
            "           1    0.55556   0.79208   0.65306       101\n",
            "\n",
            "    accuracy                        0.99851     56962\n",
            "   macro avg    0.77759   0.89548   0.82616     56962\n",
            "weighted avg    0.99884   0.99851   0.99864     56962\n",
            "\n"
          ]
        },
        {
          "output_type": "display_data",
          "data": {
            "text/plain": [
              "<Figure size 432x288 with 1 Axes>"
            ],
            "image/png": "[encoded data removed]"
          },
          "metadata": {
            "needs_background": "light"
          }
        },
        {
          "output_type": "display_data",
          "data": {
            "text/plain": [
              "<Figure size 432x288 with 2 Axes>"
            ],
            "image/png": "[encoded data removed]"
          },
          "metadata": {
            "needs_background": "light"
          }
        }
      ]
    },
    {
      "cell_type": "markdown",
      "source": [
        "###Catboost"
      ],
      "metadata": {
        "id": "bxB-6pS6J76F"
      }
    },
    {
      "cell_type": "code",
      "source": [
        "!pip install catboost"
      ],
      "metadata": {
        "colab": {
          "base_uri": "https://localhost:8080/"
        },
        "id": "gRNrUwbCKFbf",
        "outputId": "3af93782-f0dc-4efa-a768-108d13518e78"
      },
      "execution_count": null,
      "outputs": [
        {
          "output_type": "stream",
          "name": "stdout",
          "text": [
            "Collecting catboost\n",
            "  Downloading catboost-1.0.4-cp37-none-manylinux1_x86_64.whl (76.1 MB)\n",
            "\u001b[K     |████████████████████████████████| 76.1 MB 49 kB/s \n",
            "\u001b[?25hRequirement already satisfied: graphviz in /usr/local/lib/python3.7/dist-packages (from catboost) (0.10.1)\n",
            "Requirement already satisfied: six in /usr/local/lib/python3.7/dist-packages (from catboost) (1.15.0)\n",
            "Requirement already satisfied: pandas>=0.24.0 in /usr/local/lib/python3.7/dist-packages (from catboost) (1.3.5)\n",
            "Requirement already satisfied: matplotlib in /usr/local/lib/python3.7/dist-packages (from catboost) (3.2.2)\n",
            "Requirement already satisfied: plotly in /usr/local/lib/python3.7/dist-packages (from catboost) (5.5.0)\n",
            "Requirement already satisfied: scipy in /usr/local/lib/python3.7/dist-packages (from catboost) (1.4.1)\n",
            "Requirement already satisfied: numpy>=1.16.0 in /usr/local/lib/python3.7/dist-packages (from catboost) (1.21.5)\n",
            "Requirement already satisfied: pytz>=2017.3 in /usr/local/lib/python3.7/dist-packages (from pandas>=0.24.0->catboost) (2018.9)\n",
            "Requirement already satisfied: python-dateutil>=2.7.3 in /usr/local/lib/python3.7/dist-packages (from pandas>=0.24.0->catboost) (2.8.2)\n",
            "Requirement already satisfied: pyparsing!=2.0.4,!=2.1.2,!=2.1.6,>=2.0.1 in /usr/local/lib/python3.7/dist-packages (from matplotlib->catboost) (3.0.7)\n",
            "Requirement already satisfied: cycler>=0.10 in /usr/local/lib/python3.7/dist-packages (from matplotlib->catboost) (0.11.0)\n",
            "Requirement already satisfied: kiwisolver>=1.0.1 in /usr/local/lib/python3.7/dist-packages (from matplotlib->catboost) (1.3.2)\n",
            "Requirement already satisfied: tenacity>=6.2.0 in /usr/local/lib/python3.7/dist-packages (from plotly->catboost) (8.0.1)\n",
            "Installing collected packages: catboost\n",
            "Successfully installed catboost-1.0.4\n"
          ]
        }
      ]
    },
    {
      "cell_type": "code",
      "source": [
        "# Catboost\n",
        "import catboost as cb\n",
        "params_cb ={'iterations': 20,\n",
        "            'max_depth': 16}\n",
        "\n",
        "model_cbsmt = cb.CatBoostClassifier(**params_cb)\n",
        "model_cbsmt, accuracy_cbsmt, roc_auc_cbsmt, f1_score_cbsmt,coh_kap_cbsmt, tt_cbsmt = run_model(model_cbsmt, X_train_smt, y_train_smt, X_test, y_test)"
      ],
      "metadata": {
        "colab": {
          "base_uri": "https://localhost:8080/",
          "height": 1000
        },
        "id": "oQWyP7wbJ_Dn",
        "outputId": "728402b0-29ef-4737-9649-0138b37410b4"
      },
      "execution_count": null,
      "outputs": [
        {
          "output_type": "stream",
          "name": "stdout",
          "text": [
            "Learning rate set to 0.5\n",
            "0:\tlearn: 0.0938983\ttotal: 21.7s\tremaining: 6m 52s\n",
            "1:\tlearn: 0.0369055\ttotal: 41.3s\tremaining: 6m 11s\n",
            "2:\tlearn: 0.0199682\ttotal: 54.2s\tremaining: 5m 6s\n",
            "3:\tlearn: 0.0125474\ttotal: 1m 5s\tremaining: 4m 21s\n",
            "4:\tlearn: 0.0086884\ttotal: 1m 16s\tremaining: 3m 49s\n",
            "5:\tlearn: 0.0059906\ttotal: 1m 27s\tremaining: 3m 24s\n",
            "6:\tlearn: 0.0042264\ttotal: 1m 38s\tremaining: 3m 3s\n",
            "7:\tlearn: 0.0034404\ttotal: 1m 49s\tremaining: 2m 44s\n",
            "8:\tlearn: 0.0028327\ttotal: 2m\tremaining: 2m 27s\n",
            "9:\tlearn: 0.0023884\ttotal: 2m 12s\tremaining: 2m 12s\n",
            "10:\tlearn: 0.0021406\ttotal: 2m 23s\tremaining: 1m 57s\n",
            "11:\tlearn: 0.0018043\ttotal: 2m 35s\tremaining: 1m 43s\n",
            "12:\tlearn: 0.0015753\ttotal: 2m 46s\tremaining: 1m 29s\n",
            "13:\tlearn: 0.0012858\ttotal: 2m 58s\tremaining: 1m 16s\n",
            "14:\tlearn: 0.0011692\ttotal: 3m 9s\tremaining: 1m 3s\n",
            "15:\tlearn: 0.0010273\ttotal: 3m 20s\tremaining: 50s\n",
            "16:\tlearn: 0.0009326\ttotal: 3m 31s\tremaining: 37.3s\n",
            "17:\tlearn: 0.0008498\ttotal: 3m 42s\tremaining: 24.7s\n",
            "18:\tlearn: 0.0007541\ttotal: 3m 53s\tremaining: 12.3s\n",
            "19:\tlearn: 0.0007541\ttotal: 4m 3s\tremaining: 0us\n",
            "Accuracy = 0.9987711105649381\n",
            "ROC Area under Curve = 0.9203172370489717\n",
            "F1 Score  = 0.7083333333333333\n",
            "Cohen's Kappa = 0.7077330595283873\n",
            "Time taken = 251.37266397476196\n",
            "              precision    recall  f1-score   support\n",
            "\n",
            "           0    0.99972   0.99905   0.99938     56861\n",
            "           1    0.61151   0.84158   0.70833       101\n",
            "\n",
            "    accuracy                        0.99877     56962\n",
            "   macro avg    0.80561   0.92032   0.85386     56962\n",
            "weighted avg    0.99903   0.99877   0.99887     56962\n",
            "\n"
          ]
        },
        {
          "output_type": "display_data",
          "data": {
            "text/plain": [
              "<Figure size 432x288 with 1 Axes>"
            ],
            "image/png": "[encoded data removed]"
          },
          "metadata": {
            "needs_background": "light"
          }
        },
        {
          "output_type": "display_data",
          "data": {
            "text/plain": [
              "<Figure size 432x288 with 2 Axes>"
            ],
            "image/png": "[encoded data removed]"
          },
          "metadata": {
            "needs_background": "light"
          }
        }
      ]
    },
    {
      "cell_type": "markdown",
      "source": [
        "###XGBoost"
      ],
      "metadata": {
        "id": "IPgk6px1KMZR"
      }
    },
    {
      "cell_type": "code",
      "source": [
        "# XGBoost with SMOTE\n",
        "import xgboost as xgb\n",
        "params_xgb ={'n_estimators': 20,\n",
        "            'max_depth': 16}\n",
        "\n",
        "model_xgbsmt = xgb.XGBClassifier(**params_xgb)\n",
        "model_xgbsmt, accuracy_xgbsmt, roc_auc_xgbsmt, f1_score_xgbsmt,coh_kap_xgbsmt, tt_xgbsmt = run_model(model_xgbsmt, X_train_smt, y_train_smt, X_test, y_test)"
      ],
      "metadata": {
        "colab": {
          "base_uri": "https://localhost:8080/",
          "height": 800
        },
        "id": "2F2-MfVoKPDG",
        "outputId": "66b14511-d30f-4bef-e072-a0a734191db0"
      },
      "execution_count": null,
      "outputs": [
        {
          "output_type": "stream",
          "name": "stdout",
          "text": [
            "Accuracy = 0.9984199992977775\n",
            "ROC Area under Curve = 0.9102579662303122\n",
            "F1 Score  = 0.6484375\n",
            "Cohen's Kappa = 0.6476810261754515\n",
            "Time taken = 216.34099793434143\n",
            "              precision    recall  f1-score   support\n",
            "\n",
            "           0    0.99968   0.99873   0.99921     56861\n",
            "           1    0.53548   0.82178   0.64844       101\n",
            "\n",
            "    accuracy                        0.99842     56962\n",
            "   macro avg    0.76758   0.91026   0.82382     56962\n",
            "weighted avg    0.99886   0.99842   0.99859     56962\n",
            "\n"
          ]
        },
        {
          "output_type": "display_data",
          "data": {
            "text/plain": [
              "<Figure size 432x288 with 1 Axes>"
            ],
            "image/png": "[encoded data removed]"
          },
          "metadata": {
            "needs_background": "light"
          }
        },
        {
          "output_type": "display_data",
          "data": {
            "text/plain": [
              "<Figure size 432x288 with 2 Axes>"
            ],
            "image/png": "[encoded data removed]"
          },
          "metadata": {
            "needs_background": "light"
          }
        }
      ]
    },
    {
      "cell_type": "markdown",
      "source": [
        "###AdaBoost"
      ],
      "metadata": {
        "id": "5HfvEig4LWH5"
      }
    },
    {
      "cell_type": "code",
      "source": [
        "from sklearn.ensemble import AdaBoostClassifier\n",
        "model_adasmt = AdaBoostClassifier(DecisionTreeClassifier(max_depth=2),\n",
        "                                  n_estimators=50,\n",
        "                                  algorithm=\"SAMME.R\",\n",
        "                                  learning_rate=0.5)\n",
        "model_adasmt, accuracy_adasmt, roc_auc_adasmt, f1_score_adasmt,coh_kap_adasmt, tt_adasmt = run_model(model_adasmt, X_train_smt, y_train_smt, X_test, y_test)"
      ],
      "metadata": {
        "colab": {
          "base_uri": "https://localhost:8080/",
          "height": 800
        },
        "id": "728lsl4hLlAq",
        "outputId": "2242f865-fae7-436c-c993-e0a3da3a7c14"
      },
      "execution_count": null,
      "outputs": [
        {
          "output_type": "stream",
          "name": "stdout",
          "text": [
            "Accuracy = 0.9898704399424177\n",
            "ROC Area under Curve = 0.9208006984550303\n",
            "F1 Score  = 0.2296395193591455\n",
            "Cohen's Kappa = 0.22726875822202108\n",
            "Time taken = 367.2711269855499\n",
            "              precision    recall  f1-score   support\n",
            "\n",
            "           0    0.99973   0.99012   0.99490     56861\n",
            "           1    0.13272   0.85149   0.22964       101\n",
            "\n",
            "    accuracy                        0.98987     56962\n",
            "   macro avg    0.56622   0.92080   0.61227     56962\n",
            "weighted avg    0.99820   0.98987   0.99354     56962\n",
            "\n"
          ]
        },
        {
          "output_type": "display_data",
          "data": {
            "text/plain": [
              "<Figure size 432x288 with 1 Axes>"
            ],
            "image/png": "[encoded data removed]"
          },
          "metadata": {
            "needs_background": "light"
          }
        },
        {
          "output_type": "display_data",
          "data": {
            "text/plain": [
              "<Figure size 432x288 with 2 Axes>"
            ],
            "image/png": "[encoded data removed]"
          },
          "metadata": {
            "needs_background": "light"
          }
        }
      ]
    },
    {
      "cell_type": "markdown",
      "source": [
        "##Model Selection"
      ],
      "metadata": {
        "id": "kkD3spsJ-jd0"
      }
    },
    {
      "cell_type": "code",
      "source": [
        "accuracy_scores = [accuracy_lrsmt, accuracy_dtsmt, accuracy_rfsmt, accuracy_lgbsmt, accuracy_cbsmt, accuracy_xgbsmt, accuracy_adasmt]\n",
        "roc_auc_scores = [roc_auc_lrsmt, roc_auc_dtsmt, roc_auc_rfsmt, roc_auc_lgbsmt, roc_auc_cbsmt, roc_auc_xgbsmt, roc_auc_adasmt]\n",
        "f1_scores = [f1_score_lrsmt, f1_score_dtsmt, f1_score_rfsmt, f1_score_lgbsmt, f1_score_cbsmt, f1_score_xgbsmt, f1_score_adasmt]\n",
        "coh_kap_scores = [coh_kap_lrsmt, coh_kap_dtsmt,coh_kap_rfsmt, coh_kap_lgbsmt, coh_kap_cbsmt, coh_kap_xgbsmt, coh_kap_adasmt]\n",
        "tt = [tt_lrsmt, tt_dtsmt, tt_rfsmt, tt_lgbsmt, tt_cbsmt, tt_xgbsmt, tt_adasmt]\n",
        "\n",
        "model_data = {'Model': ['Logistic Regression','Decision Tree','Random Forest','LightGBM','Catboost','XGBoost', 'AdaBoost'],\n",
        "              'Accuracy': accuracy_scores,\n",
        "              'ROC_AUC': roc_auc_scores,\n",
        "              'F1 Score': f1_scores,\n",
        "              'Cohen_Kappa': coh_kap_scores,\n",
        "              'Time taken': tt}\n",
        "data = pd.DataFrame(model_data)\n",
        "\n",
        "fig, ax1 = plt.subplots(figsize=(12,10))\n",
        "ax1.set_title('Model Comparison: Accuracy and Time taken for execution', fontsize=13)\n",
        "color = 'tab:green'\n",
        "ax1.set_xlabel('Model', fontsize=13)\n",
        "ax1.set_ylabel('Time taken', fontsize=13, color=color)\n",
        "ax2 = sns.barplot(x='Model', y='Time taken', data = data, palette='summer')\n",
        "ax1.tick_params(axis='y')\n",
        "ax2 = ax1.twinx()\n",
        "color = 'tab:red'\n",
        "ax2.set_ylabel('F1 Score', fontsize=13, color=color)\n",
        "ax2 = sns.lineplot(x='Model', y='F1 Score', data = data, sort=False, color=color)\n",
        "ax2.tick_params(axis='y', color=color)"
      ],
      "metadata": {
        "colab": {
          "base_uri": "https://localhost:8080/",
          "height": 625
        },
        "id": "N5YlxUQ0NxqM",
        "outputId": "ff7b48f8-0d33-4456-d56b-da94fd852d95"
      },
      "execution_count": null,
      "outputs": [
        {
          "output_type": "display_data",
          "data": {
            "text/plain": [
              "<Figure size 864x720 with 2 Axes>"
            ],
            "image/png": "[encoded data removed]"
          },
          "metadata": {
            "needs_background": "light"
          }
        }
      ]
    },
    {
      "cell_type": "markdown",
      "source": [
        "Mô hình Random Forest cho kết quả `f1_score` tốt nhất nhưng thời gian huấn luyện lâu và tốn chi phí tính toán nên để tối ưu chúng ta sẽ lựa chọn mô hình `LightGBM` để fine-tuning"
      ],
      "metadata": {
        "id": "GKYoPW-MGBXH"
      }
    },
    {
      "cell_type": "markdown",
      "source": [
        "##Fine Tuning"
      ],
      "metadata": {
        "id": "sSrpjXmX5u7u"
      }
    },
    {
      "cell_type": "code",
      "source": [
        "!pip install --quiet optuna"
      ],
      "metadata": {
        "colab": {
          "base_uri": "https://localhost:8080/"
        },
        "id": "ktwsdWLg69rt",
        "outputId": "e9105274-3291-4f1a-dad2-47c903d3cedb"
      },
      "execution_count": null,
      "outputs": [
        {
          "output_type": "stream",
          "name": "stdout",
          "text": [
            "\u001b[K     |████████████████████████████████| 308 kB 4.4 MB/s \n",
            "\u001b[K     |████████████████████████████████| 81 kB 6.4 MB/s \n",
            "\u001b[K     |████████████████████████████████| 210 kB 44.3 MB/s \n",
            "\u001b[K     |████████████████████████████████| 78 kB 3.5 MB/s \n",
            "\u001b[K     |████████████████████████████████| 150 kB 40.6 MB/s \n",
            "\u001b[K     |████████████████████████████████| 49 kB 4.1 MB/s \n",
            "\u001b[K     |████████████████████████████████| 113 kB 11.5 MB/s \n",
            "\u001b[?25h  Building wheel for pyperclip (setup.py) ... \u001b[?25l\u001b[?25hdone\n"
          ]
        }
      ]
    },
    {
      "cell_type": "code",
      "source": [
        "import optuna  # pip install optuna\n",
        "import lightgbm as lgb\n",
        "import xgboost as xgb\n",
        "from sklearn.metrics import make_scorer, accuracy_score, precision_score, recall_score, f1_score\n",
        "\n",
        "def objective(trial, X_train_smt, y_train_smt):\n",
        "    max_depth=trial.suggest_int('max_depth',2,14)\n",
        "    param_grid = {\n",
        "        #         \"device_type\": trial.suggest_categorical(\"device_type\", ['gpu']),\n",
        "        #\"n_estimators\": trial.suggest_categorical(\"n_estimators\", 1,300 ),\n",
        "        \"learning_rate\": trial.suggest_float(\"learning_rate\", 0.0001, 0.3),\n",
        "        \"num_leaves\": trial.suggest_int(\"num_leaves\", 4, 2**max_depth),\n",
        "        \"min_data_in_leaf\": trial.suggest_int(\"min_data_in_leaf\", 5, 500),\n",
        "        \"max_bin\": trial.suggest_int(\"max_bin\", 10, 300),\n",
        "        \"lambda_l1\": trial.suggest_int(\"lambda_l1\", 0, 100, step=5),\n",
        "        \"lambda_l2\": trial.suggest_int(\"lambda_l2\", 0, 100, step=5),\n",
        "        \"min_gain_to_split\": trial.suggest_float(\"min_gain_to_split\", 0, 15),\n",
        "        \"bagging_fraction\": trial.suggest_float(\n",
        "            \"bagging_fraction\", 0.2, 0.95, step=0.1\n",
        "        ),\n",
        "        \"bagging_freq\": trial.suggest_categorical(\"bagging_freq\", [1]),\n",
        "        \"feature_fraction\": trial.suggest_float(\"feature_fraction\", 0.2, 0.95, step=0.1)\n",
        "    }\n",
        "    #scoring = {'accuracy' : make_scorer(accuracy_score), \n",
        "    #      'precision' : make_scorer(precision_score),\n",
        "    #     'recall' : make_scorer(recall_score), \n",
        "    #    'f1_score' : make_scorer(f1_score)}\n",
        "\n",
        "    cv = StratifiedKFold(n_splits=5, shuffle=True, random_state=42)\n",
        "    model = lgb.LGBMClassifier(**param_grid)\n",
        "    model.fit(X_train_smt,y_train_smt)\n",
        "    scores = cross_val_score(model, X_train_smt, y_train_smt,\n",
        "                             scoring=make_scorer(f1_score, average='weighted', labels=[1]),cv=cv, n_jobs=-1)\n",
        "    return np.mean(scores)"
      ],
      "metadata": {
        "id": "Ao6_agKnEk0J"
      },
      "execution_count": null,
      "outputs": []
    },
    {
      "cell_type": "code",
      "source": [
        "study = optuna.create_study(direction='maximize')\n",
        "func = lambda trial: objective(trial, X_train_smt, y_train_smt)\n",
        "study.optimize(func, n_trials=100)"
      ],
      "metadata": {
        "colab": {
          "base_uri": "https://localhost:8080/"
        },
        "id": "L71YMUazFtuj",
        "outputId": "7f219fbd-f839-47e1-c6af-14faf010f81b"
      },
      "execution_count": null,
      "outputs": [
        {
          "output_type": "stream",
          "name": "stderr",
          "text": [
            "\u001b[32m[I 2022-03-22 08:33:46,733]\u001b[0m A new study created in memory with name: no-name-5ded3fe7-8239-4ca3-abec-c8216b053643\u001b[0m\n",
            "\u001b[32m[I 2022-03-22 08:34:27,587]\u001b[0m Trial 0 finished with value: 0.9815314594640159 and parameters: {'max_depth': 10, 'learning_rate': 0.02723835313433818, 'num_leaves': 761, 'min_data_in_leaf': 310, 'max_bin': 244, 'lambda_l1': 0, 'lambda_l2': 60, 'min_gain_to_split': 2.921029204099039, 'bagging_fraction': 0.4, 'bagging_freq': 1, 'feature_fraction': 0.2}. Best is trial 0 with value: 0.9815314594640159.\u001b[0m\n",
            "\u001b[32m[I 2022-03-22 08:35:05,420]\u001b[0m Trial 1 finished with value: 0.992956712745864 and parameters: {'max_depth': 4, 'learning_rate': 0.08886077681528277, 'num_leaves': 14, 'min_data_in_leaf': 244, 'max_bin': 217, 'lambda_l1': 95, 'lambda_l2': 90, 'min_gain_to_split': 5.230510021315511, 'bagging_fraction': 0.7, 'bagging_freq': 1, 'feature_fraction': 0.7}. Best is trial 1 with value: 0.992956712745864.\u001b[0m\n",
            "\u001b[32m[I 2022-03-22 08:35:36,250]\u001b[0m Trial 2 finished with value: 0.9969317500546548 and parameters: {'max_depth': 12, 'learning_rate': 0.21065185355658372, 'num_leaves': 122, 'min_data_in_leaf': 375, 'max_bin': 105, 'lambda_l1': 10, 'lambda_l2': 80, 'min_gain_to_split': 12.055958501327424, 'bagging_fraction': 0.5, 'bagging_freq': 1, 'feature_fraction': 0.2}. Best is trial 2 with value: 0.9969317500546548.\u001b[0m\n",
            "\u001b[32m[I 2022-03-22 08:36:03,633]\u001b[0m Trial 3 finished with value: 0.9978921810737816 and parameters: {'max_depth': 8, 'learning_rate': 0.2628832726113226, 'num_leaves': 171, 'min_data_in_leaf': 426, 'max_bin': 155, 'lambda_l1': 40, 'lambda_l2': 45, 'min_gain_to_split': 7.114629206730353, 'bagging_fraction': 0.7, 'bagging_freq': 1, 'feature_fraction': 0.5}. Best is trial 3 with value: 0.9978921810737816.\u001b[0m\n",
            "\u001b[32m[I 2022-03-22 08:36:43,469]\u001b[0m Trial 4 finished with value: 0.9819114622907392 and parameters: {'max_depth': 10, 'learning_rate': 0.027437294123130448, 'num_leaves': 582, 'min_data_in_leaf': 98, 'max_bin': 208, 'lambda_l1': 30, 'lambda_l2': 100, 'min_gain_to_split': 6.30388000770786, 'bagging_fraction': 0.30000000000000004, 'bagging_freq': 1, 'feature_fraction': 0.7}. Best is trial 3 with value: 0.9978921810737816.\u001b[0m\n",
            "\u001b[32m[I 2022-03-22 08:37:20,423]\u001b[0m Trial 5 finished with value: 0.99586371925794 and parameters: {'max_depth': 3, 'learning_rate': 0.2654987825672818, 'num_leaves': 7, 'min_data_in_leaf': 172, 'max_bin': 63, 'lambda_l1': 25, 'lambda_l2': 60, 'min_gain_to_split': 6.255528334180724, 'bagging_fraction': 0.8, 'bagging_freq': 1, 'feature_fraction': 0.30000000000000004}. Best is trial 3 with value: 0.9978921810737816.\u001b[0m\n",
            "\u001b[32m[I 2022-03-22 08:38:03,222]\u001b[0m Trial 6 finished with value: 0.9985485903381722 and parameters: {'max_depth': 14, 'learning_rate': 0.11235589540416968, 'num_leaves': 5321, 'min_data_in_leaf': 274, 'max_bin': 251, 'lambda_l1': 25, 'lambda_l2': 15, 'min_gain_to_split': 4.893793103494131, 'bagging_fraction': 0.6000000000000001, 'bagging_freq': 1, 'feature_fraction': 0.5}. Best is trial 6 with value: 0.9985485903381722.\u001b[0m\n",
            "\u001b[32m[I 2022-03-22 08:38:30,150]\u001b[0m Trial 7 finished with value: 0.9937654351764754 and parameters: {'max_depth': 6, 'learning_rate': 0.18306396235152392, 'num_leaves': 25, 'min_data_in_leaf': 491, 'max_bin': 190, 'lambda_l1': 100, 'lambda_l2': 45, 'min_gain_to_split': 12.905827909315036, 'bagging_fraction': 0.6000000000000001, 'bagging_freq': 1, 'feature_fraction': 0.4}. Best is trial 6 with value: 0.9985485903381722.\u001b[0m\n",
            "\u001b[32m[I 2022-03-22 08:39:05,877]\u001b[0m Trial 8 finished with value: 0.9524096199467728 and parameters: {'max_depth': 13, 'learning_rate': 0.003708409910841823, 'num_leaves': 6483, 'min_data_in_leaf': 20, 'max_bin': 62, 'lambda_l1': 75, 'lambda_l2': 70, 'min_gain_to_split': 2.5343857948249653, 'bagging_fraction': 0.2, 'bagging_freq': 1, 'feature_fraction': 0.6000000000000001}. Best is trial 6 with value: 0.9985485903381722.\u001b[0m\n",
            "\u001b[32m[I 2022-03-22 08:39:30,504]\u001b[0m Trial 9 finished with value: 0.9914432825330207 and parameters: {'max_depth': 5, 'learning_rate': 0.2132231609782533, 'num_leaves': 31, 'min_data_in_leaf': 495, 'max_bin': 186, 'lambda_l1': 55, 'lambda_l2': 40, 'min_gain_to_split': 4.346677304264629, 'bagging_fraction': 0.2, 'bagging_freq': 1, 'feature_fraction': 0.6000000000000001}. Best is trial 6 with value: 0.9985485903381722.\u001b[0m\n",
            "\u001b[32m[I 2022-03-22 08:40:41,863]\u001b[0m Trial 10 finished with value: 0.9979952218820063 and parameters: {'max_depth': 14, 'learning_rate': 0.11788358962081727, 'num_leaves': 13951, 'min_data_in_leaf': 240, 'max_bin': 291, 'lambda_l1': 60, 'lambda_l2': 5, 'min_gain_to_split': 10.161734081927113, 'bagging_fraction': 0.9, 'bagging_freq': 1, 'feature_fraction': 0.9}. Best is trial 6 with value: 0.9985485903381722.\u001b[0m\n",
            "\u001b[32m[I 2022-03-22 08:41:49,781]\u001b[0m Trial 11 finished with value: 0.9980872976881983 and parameters: {'max_depth': 14, 'learning_rate': 0.11862636898363335, 'num_leaves': 16207, 'min_data_in_leaf': 238, 'max_bin': 295, 'lambda_l1': 55, 'lambda_l2': 5, 'min_gain_to_split': 10.158190669660998, 'bagging_fraction': 0.9, 'bagging_freq': 1, 'feature_fraction': 0.9}. Best is trial 6 with value: 0.9985485903381722.\u001b[0m\n",
            "\u001b[32m[I 2022-03-22 08:42:45,740]\u001b[0m Trial 12 finished with value: 0.9978984010600849 and parameters: {'max_depth': 11, 'learning_rate': 0.08638052206220001, 'num_leaves': 1362, 'min_data_in_leaf': 169, 'max_bin': 289, 'lambda_l1': 70, 'lambda_l2': 0, 'min_gain_to_split': 9.766360839262035, 'bagging_fraction': 0.9, 'bagging_freq': 1, 'feature_fraction': 0.9}. Best is trial 6 with value: 0.9985485903381722.\u001b[0m\n",
            "\u001b[32m[I 2022-03-22 08:43:45,107]\u001b[0m Trial 13 finished with value: 0.9989985151653882 and parameters: {'max_depth': 14, 'learning_rate': 0.14411628505775936, 'num_leaves': 16293, 'min_data_in_leaf': 319, 'max_bin': 251, 'lambda_l1': 25, 'lambda_l2': 25, 'min_gain_to_split': 0.04688345361229018, 'bagging_fraction': 0.5, 'bagging_freq': 1, 'feature_fraction': 0.4}. Best is trial 13 with value: 0.9989985151653882.\u001b[0m\n",
            "\u001b[32m[I 2022-03-22 08:44:31,116]\u001b[0m Trial 14 finished with value: 0.9989831407087774 and parameters: {'max_depth': 8, 'learning_rate': 0.1495535470587314, 'num_leaves': 103, 'min_data_in_leaf': 358, 'max_bin': 256, 'lambda_l1': 25, 'lambda_l2': 25, 'min_gain_to_split': 0.057234041805795347, 'bagging_fraction': 0.5, 'bagging_freq': 1, 'feature_fraction': 0.5}. Best is trial 13 with value: 0.9989985151653882.\u001b[0m\n",
            "\u001b[32m[I 2022-03-22 08:45:12,176]\u001b[0m Trial 15 finished with value: 0.999198270773428 and parameters: {'max_depth': 8, 'learning_rate': 0.16071687325034625, 'num_leaves': 102, 'min_data_in_leaf': 357, 'max_bin': 159, 'lambda_l1': 10, 'lambda_l2': 25, 'min_gain_to_split': 0.14341454284022603, 'bagging_fraction': 0.4, 'bagging_freq': 1, 'feature_fraction': 0.4}. Best is trial 15 with value: 0.999198270773428.\u001b[0m\n",
            "\u001b[32m[I 2022-03-22 08:45:52,303]\u001b[0m Trial 16 finished with value: 0.9993102196652128 and parameters: {'max_depth': 7, 'learning_rate': 0.1646278261461929, 'num_leaves': 58, 'min_data_in_leaf': 398, 'max_bin': 130, 'lambda_l1': 5, 'lambda_l2': 25, 'min_gain_to_split': 0.13698303326498795, 'bagging_fraction': 0.4, 'bagging_freq': 1, 'feature_fraction': 0.30000000000000004}. Best is trial 16 with value: 0.9993102196652128.\u001b[0m\n",
            "\u001b[32m[I 2022-03-22 08:46:29,950]\u001b[0m Trial 17 finished with value: 0.9993058361281021 and parameters: {'max_depth': 7, 'learning_rate': 0.1819618240190128, 'num_leaves': 77, 'min_data_in_leaf': 418, 'max_bin': 123, 'lambda_l1': 0, 'lambda_l2': 30, 'min_gain_to_split': 1.5798119108036124, 'bagging_fraction': 0.4, 'bagging_freq': 1, 'feature_fraction': 0.30000000000000004}. Best is trial 16 with value: 0.9993102196652128.\u001b[0m\n",
            "\u001b[32m[I 2022-03-22 08:47:02,093]\u001b[0m Trial 18 finished with value: 0.999007303241509 and parameters: {'max_depth': 6, 'learning_rate': 0.23469666554905994, 'num_leaves': 63, 'min_data_in_leaf': 435, 'max_bin': 114, 'lambda_l1': 0, 'lambda_l2': 35, 'min_gain_to_split': 2.2528682922063674, 'bagging_fraction': 0.30000000000000004, 'bagging_freq': 1, 'feature_fraction': 0.30000000000000004}. Best is trial 16 with value: 0.9993102196652128.\u001b[0m\n",
            "\u001b[32m[I 2022-03-22 08:47:27,802]\u001b[0m Trial 19 finished with value: 0.9790593653154886 and parameters: {'max_depth': 2, 'learning_rate': 0.1814325259443458, 'num_leaves': 4, 'min_data_in_leaf': 446, 'max_bin': 110, 'lambda_l1': 15, 'lambda_l2': 15, 'min_gain_to_split': 1.7496099825836564, 'bagging_fraction': 0.4, 'bagging_freq': 1, 'feature_fraction': 0.30000000000000004}. Best is trial 16 with value: 0.9993102196652128.\u001b[0m\n",
            "\u001b[32m[I 2022-03-22 08:47:51,343]\u001b[0m Trial 20 finished with value: 0.9834853423997181 and parameters: {'max_depth': 7, 'learning_rate': 0.292355799336548, 'num_leaves': 75, 'min_data_in_leaf': 371, 'max_bin': 11, 'lambda_l1': 45, 'lambda_l2': 55, 'min_gain_to_split': 14.997323782844575, 'bagging_fraction': 0.30000000000000004, 'bagging_freq': 1, 'feature_fraction': 0.2}. Best is trial 16 with value: 0.9993102196652128.\u001b[0m\n",
            "\u001b[32m[I 2022-03-22 08:48:28,608]\u001b[0m Trial 21 finished with value: 0.9989721931691719 and parameters: {'max_depth': 9, 'learning_rate': 0.1713970815228932, 'num_leaves': 83, 'min_data_in_leaf': 402, 'max_bin': 146, 'lambda_l1': 10, 'lambda_l2': 30, 'min_gain_to_split': 1.4203238366752222, 'bagging_fraction': 0.4, 'bagging_freq': 1, 'feature_fraction': 0.4}. Best is trial 16 with value: 0.9993102196652128.\u001b[0m\n",
            "\u001b[32m[I 2022-03-22 08:49:12,426]\u001b[0m Trial 22 finished with value: 0.9995034480861863 and parameters: {'max_depth': 7, 'learning_rate': 0.20889238876792404, 'num_leaves': 79, 'min_data_in_leaf': 338, 'max_bin': 143, 'lambda_l1': 0, 'lambda_l2': 15, 'min_gain_to_split': 0.8153181169580805, 'bagging_fraction': 0.4, 'bagging_freq': 1, 'feature_fraction': 0.30000000000000004}. Best is trial 22 with value: 0.9995034480861863.\u001b[0m\n",
            "\u001b[32m[I 2022-03-22 08:49:43,889]\u001b[0m Trial 23 finished with value: 0.9990314187840476 and parameters: {'max_depth': 6, 'learning_rate': 0.19693809788563613, 'num_leaves': 64, 'min_data_in_leaf': 310, 'max_bin': 82, 'lambda_l1': 0, 'lambda_l2': 15, 'min_gain_to_split': 3.598232047739796, 'bagging_fraction': 0.30000000000000004, 'bagging_freq': 1, 'feature_fraction': 0.30000000000000004}. Best is trial 22 with value: 0.9995034480861863.\u001b[0m\n",
            "\u001b[32m[I 2022-03-22 08:50:17,903]\u001b[0m Trial 24 finished with value: 0.9986978171077027 and parameters: {'max_depth': 7, 'learning_rate': 0.2347377454860579, 'num_leaves': 67, 'min_data_in_leaf': 471, 'max_bin': 139, 'lambda_l1': 15, 'lambda_l2': 15, 'min_gain_to_split': 1.358222520591564, 'bagging_fraction': 0.4, 'bagging_freq': 1, 'feature_fraction': 0.2}. Best is trial 22 with value: 0.9995034480861863.\u001b[0m\n",
            "\u001b[32m[I 2022-03-22 08:50:53,376]\u001b[0m Trial 25 finished with value: 0.9983272094983144 and parameters: {'max_depth': 5, 'learning_rate': 0.23468504908347881, 'num_leaves': 26, 'min_data_in_leaf': 393, 'max_bin': 130, 'lambda_l1': 35, 'lambda_l2': 35, 'min_gain_to_split': 1.0897976729066459, 'bagging_fraction': 0.5, 'bagging_freq': 1, 'feature_fraction': 0.30000000000000004}. Best is trial 22 with value: 0.9995034480861863.\u001b[0m\n",
            "\u001b[32m[I 2022-03-22 08:51:28,490]\u001b[0m Trial 26 finished with value: 0.9991236381535604 and parameters: {'max_depth': 9, 'learning_rate': 0.13431792566404419, 'num_leaves': 57, 'min_data_in_leaf': 330, 'max_bin': 175, 'lambda_l1': 5, 'lambda_l2': 20, 'min_gain_to_split': 3.7718007083734273, 'bagging_fraction': 0.6000000000000001, 'bagging_freq': 1, 'feature_fraction': 0.4}. Best is trial 22 with value: 0.9995034480861863.\u001b[0m\n",
            "\u001b[32m[I 2022-03-22 08:51:53,306]\u001b[0m Trial 27 finished with value: 0.9947300780634649 and parameters: {'max_depth': 7, 'learning_rate': 0.19542505266144572, 'num_leaves': 73, 'min_data_in_leaf': 415, 'max_bin': 89, 'lambda_l1': 15, 'lambda_l2': 5, 'min_gain_to_split': 8.587038606896314, 'bagging_fraction': 0.2, 'bagging_freq': 1, 'feature_fraction': 0.30000000000000004}. Best is trial 22 with value: 0.9995034480861863.\u001b[0m\n",
            "\u001b[32m[I 2022-03-22 08:52:22,052]\u001b[0m Trial 28 finished with value: 0.9974939547687803 and parameters: {'max_depth': 4, 'learning_rate': 0.21724892030273735, 'num_leaves': 16, 'min_data_in_leaf': 284, 'max_bin': 25, 'lambda_l1': 0, 'lambda_l2': 35, 'min_gain_to_split': 3.392166674644811, 'bagging_fraction': 0.30000000000000004, 'bagging_freq': 1, 'feature_fraction': 0.2}. Best is trial 22 with value: 0.9995034480861863.\u001b[0m\n",
            "\u001b[32m[I 2022-03-22 08:52:59,796]\u001b[0m Trial 29 finished with value: 0.9976416208474544 and parameters: {'max_depth': 10, 'learning_rate': 0.0846697013816192, 'num_leaves': 111, 'min_data_in_leaf': 200, 'max_bin': 132, 'lambda_l1': 5, 'lambda_l2': 50, 'min_gain_to_split': 2.4920134868645425, 'bagging_fraction': 0.4, 'bagging_freq': 1, 'feature_fraction': 0.2}. Best is trial 22 with value: 0.9995034480861863.\u001b[0m\n",
            "\u001b[32m[I 2022-03-22 08:53:35,545]\u001b[0m Trial 30 finished with value: 0.99894371108091 and parameters: {'max_depth': 9, 'learning_rate': 0.2578990157550573, 'num_leaves': 69, 'min_data_in_leaf': 457, 'max_bin': 170, 'lambda_l1': 20, 'lambda_l2': 10, 'min_gain_to_split': 1.046789926137212, 'bagging_fraction': 0.5, 'bagging_freq': 1, 'feature_fraction': 0.4}. Best is trial 22 with value: 0.9995034480861863.\u001b[0m\n",
            "\u001b[32m[I 2022-03-22 08:54:16,015]\u001b[0m Trial 31 finished with value: 0.9991631460859839 and parameters: {'max_depth': 8, 'learning_rate': 0.16409552072847922, 'num_leaves': 87, 'min_data_in_leaf': 352, 'max_bin': 165, 'lambda_l1': 10, 'lambda_l2': 25, 'min_gain_to_split': 0.3444461353197248, 'bagging_fraction': 0.4, 'bagging_freq': 1, 'feature_fraction': 0.4}. Best is trial 22 with value: 0.9995034480861863.\u001b[0m\n",
            "\u001b[32m[I 2022-03-22 08:54:55,631]\u001b[0m Trial 32 finished with value: 0.9993980492121699 and parameters: {'max_depth': 7, 'learning_rate': 0.1701607149701004, 'num_leaves': 78, 'min_data_in_leaf': 339, 'max_bin': 123, 'lambda_l1': 0, 'lambda_l2': 30, 'min_gain_to_split': 0.7624578559829881, 'bagging_fraction': 0.4, 'bagging_freq': 1, 'feature_fraction': 0.30000000000000004}. Best is trial 22 with value: 0.9995034480861863.\u001b[0m\n",
            "\u001b[32m[I 2022-03-22 08:55:28,058]\u001b[0m Trial 33 finished with value: 0.9988778681201117 and parameters: {'max_depth': 5, 'learning_rate': 0.19042487057664845, 'num_leaves': 26, 'min_data_in_leaf': 292, 'max_bin': 122, 'lambda_l1': 0, 'lambda_l2': 30, 'min_gain_to_split': 2.4569419017231398, 'bagging_fraction': 0.30000000000000004, 'bagging_freq': 1, 'feature_fraction': 0.30000000000000004}. Best is trial 22 with value: 0.9995034480861863.\u001b[0m\n",
            "\u001b[32m[I 2022-03-22 08:56:08,334]\u001b[0m Trial 34 finished with value: 0.9989391347200482 and parameters: {'max_depth': 7, 'learning_rate': 0.13249959278778528, 'num_leaves': 76, 'min_data_in_leaf': 400, 'max_bin': 89, 'lambda_l1': 5, 'lambda_l2': 40, 'min_gain_to_split': 0.9362872034243668, 'bagging_fraction': 0.5, 'bagging_freq': 1, 'feature_fraction': 0.2}. Best is trial 22 with value: 0.9995034480861863.\u001b[0m\n",
            "\u001b[32m[I 2022-03-22 08:56:39,480]\u001b[0m Trial 35 finished with value: 0.9981666271301058 and parameters: {'max_depth': 6, 'learning_rate': 0.2089676490032385, 'num_leaves': 63, 'min_data_in_leaf': 336, 'max_bin': 218, 'lambda_l1': 15, 'lambda_l2': 20, 'min_gain_to_split': 5.542841469667115, 'bagging_fraction': 0.4, 'bagging_freq': 1, 'feature_fraction': 0.5}. Best is trial 22 with value: 0.9995034480861863.\u001b[0m\n",
            "\u001b[32m[I 2022-03-22 08:57:20,348]\u001b[0m Trial 36 finished with value: 0.9922256539612789 and parameters: {'max_depth': 4, 'learning_rate': 0.06929717000781266, 'num_leaves': 16, 'min_data_in_leaf': 379, 'max_bin': 101, 'lambda_l1': 85, 'lambda_l2': 45, 'min_gain_to_split': 3.1605200170542034, 'bagging_fraction': 0.7, 'bagging_freq': 1, 'feature_fraction': 0.8}. Best is trial 22 with value: 0.9995034480861863.\u001b[0m\n",
            "\u001b[32m[I 2022-03-22 08:57:51,540]\u001b[0m Trial 37 finished with value: 0.9964481439712461 and parameters: {'max_depth': 8, 'learning_rate': 0.17159095521061493, 'num_leaves': 76, 'min_data_in_leaf': 421, 'max_bin': 61, 'lambda_l1': 35, 'lambda_l2': 65, 'min_gain_to_split': 1.8514966515857023, 'bagging_fraction': 0.30000000000000004, 'bagging_freq': 1, 'feature_fraction': 0.30000000000000004}. Best is trial 22 with value: 0.9995034480861863.\u001b[0m\n",
            "\u001b[32m[I 2022-03-22 08:58:24,911]\u001b[0m Trial 38 finished with value: 0.9988821870981296 and parameters: {'max_depth': 11, 'learning_rate': 0.24958347026345581, 'num_leaves': 182, 'min_data_in_leaf': 301, 'max_bin': 143, 'lambda_l1': 5, 'lambda_l2': 30, 'min_gain_to_split': 4.319987374039423, 'bagging_fraction': 0.5, 'bagging_freq': 1, 'feature_fraction': 0.2}. Best is trial 22 with value: 0.9995034480861863.\u001b[0m\n",
            "\u001b[32m[I 2022-03-22 08:59:06,442]\u001b[0m Trial 39 finished with value: 0.9988361132108896 and parameters: {'max_depth': 7, 'learning_rate': 0.15475489776490678, 'num_leaves': 81, 'min_data_in_leaf': 257, 'max_bin': 49, 'lambda_l1': 20, 'lambda_l2': 75, 'min_gain_to_split': 0.6942360047462681, 'bagging_fraction': 0.6000000000000001, 'bagging_freq': 1, 'feature_fraction': 0.5}. Best is trial 22 with value: 0.9995034480861863.\u001b[0m\n",
            "\u001b[32m[I 2022-03-22 08:59:40,226]\u001b[0m Trial 40 finished with value: 0.9983007636330447 and parameters: {'max_depth': 5, 'learning_rate': 0.20509098833762862, 'num_leaves': 29, 'min_data_in_leaf': 463, 'max_bin': 200, 'lambda_l1': 0, 'lambda_l2': 85, 'min_gain_to_split': 7.404488821506667, 'bagging_fraction': 0.4, 'bagging_freq': 1, 'feature_fraction': 0.6000000000000001}. Best is trial 22 with value: 0.9995034480861863.\u001b[0m\n",
            "\u001b[32m[I 2022-03-22 09:00:22,977]\u001b[0m Trial 41 finished with value: 0.999259738140586 and parameters: {'max_depth': 9, 'learning_rate': 0.16500506077743615, 'num_leaves': 91, 'min_data_in_leaf': 344, 'max_bin': 157, 'lambda_l1': 10, 'lambda_l2': 20, 'min_gain_to_split': 0.026143787168816532, 'bagging_fraction': 0.4, 'bagging_freq': 1, 'feature_fraction': 0.4}. Best is trial 22 with value: 0.9995034480861863.\u001b[0m\n",
            "\u001b[32m[I 2022-03-22 09:00:59,217]\u001b[0m Trial 42 finished with value: 0.9991301977210731 and parameters: {'max_depth': 9, 'learning_rate': 0.1737337195139981, 'num_leaves': 57, 'min_data_in_leaf': 340, 'max_bin': 150, 'lambda_l1': 5, 'lambda_l2': 20, 'min_gain_to_split': 1.8307083160328217, 'bagging_fraction': 0.4, 'bagging_freq': 1, 'feature_fraction': 0.30000000000000004}. Best is trial 22 with value: 0.9995034480861863.\u001b[0m\n",
            "\u001b[32m[I 2022-03-22 09:01:32,490]\u001b[0m Trial 43 finished with value: 0.9990161269547269 and parameters: {'max_depth': 10, 'learning_rate': 0.219247969608249, 'num_leaves': 115, 'min_data_in_leaf': 380, 'max_bin': 123, 'lambda_l1': 10, 'lambda_l2': 10, 'min_gain_to_split': 0.7012265753673143, 'bagging_fraction': 0.30000000000000004, 'bagging_freq': 1, 'feature_fraction': 0.4}. Best is trial 22 with value: 0.9995034480861863.\u001b[0m\n",
            "\u001b[32m[I 2022-03-22 09:02:11,251]\u001b[0m Trial 44 finished with value: 0.9981535508706421 and parameters: {'max_depth': 6, 'learning_rate': 0.13642782371961598, 'num_leaves': 63, 'min_data_in_leaf': 423, 'max_bin': 97, 'lambda_l1': 20, 'lambda_l2': 100, 'min_gain_to_split': 2.8834532361874388, 'bagging_fraction': 0.5, 'bagging_freq': 1, 'feature_fraction': 0.30000000000000004}. Best is trial 22 with value: 0.9995034480861863.\u001b[0m\n",
            "\u001b[32m[I 2022-03-22 09:02:42,894]\u001b[0m Trial 45 finished with value: 0.9985040571385915 and parameters: {'max_depth': 7, 'learning_rate': 0.18603916366855316, 'num_leaves': 83, 'min_data_in_leaf': 271, 'max_bin': 157, 'lambda_l1': 0, 'lambda_l2': 0, 'min_gain_to_split': 1.997404815624423, 'bagging_fraction': 0.2, 'bagging_freq': 1, 'feature_fraction': 0.4}. Best is trial 22 with value: 0.9995034480861863.\u001b[0m\n",
            "\u001b[32m[I 2022-03-22 09:03:21,745]\u001b[0m Trial 46 finished with value: 0.9984819003136899 and parameters: {'max_depth': 10, 'learning_rate': 0.106920098329512, 'num_leaves': 120, 'min_data_in_leaf': 116, 'max_bin': 182, 'lambda_l1': 10, 'lambda_l2': 40, 'min_gain_to_split': 0.7725976421371475, 'bagging_fraction': 0.4, 'bagging_freq': 1, 'feature_fraction': 0.2}. Best is trial 22 with value: 0.9995034480861863.\u001b[0m\n",
            "\u001b[32m[I 2022-03-22 09:04:00,602]\u001b[0m Trial 47 finished with value: 0.9995429784950067 and parameters: {'max_depth': 8, 'learning_rate': 0.15064323918367745, 'num_leaves': 85, 'min_data_in_leaf': 323, 'max_bin': 76, 'lambda_l1': 5, 'lambda_l2': 10, 'min_gain_to_split': 0.03837132607600348, 'bagging_fraction': 0.7, 'bagging_freq': 1, 'feature_fraction': 0.30000000000000004}. Best is trial 47 with value: 0.9995429784950067.\u001b[0m\n",
            "\u001b[32m[I 2022-03-22 09:04:35,442]\u001b[0m Trial 48 finished with value: 0.9986756960104403 and parameters: {'max_depth': 8, 'learning_rate': 0.15341301362851908, 'num_leaves': 87, 'min_data_in_leaf': 209, 'max_bin': 76, 'lambda_l1': 30, 'lambda_l2': 10, 'min_gain_to_split': 6.627515810354629, 'bagging_fraction': 0.8, 'bagging_freq': 1, 'feature_fraction': 0.30000000000000004}. Best is trial 47 with value: 0.9995429784950067.\u001b[0m\n",
            "\u001b[32m[I 2022-03-22 09:05:20,456]\u001b[0m Trial 49 finished with value: 0.9992092540089358 and parameters: {'max_depth': 8, 'learning_rate': 0.10291771703050746, 'num_leaves': 72, 'min_data_in_leaf': 366, 'max_bin': 113, 'lambda_l1': 5, 'lambda_l2': 5, 'min_gain_to_split': 5.1090167688062, 'bagging_fraction': 0.7, 'bagging_freq': 1, 'feature_fraction': 0.7}. Best is trial 47 with value: 0.9995429784950067.\u001b[0m\n",
            "\u001b[32m[I 2022-03-22 09:05:51,424]\u001b[0m Trial 50 finished with value: 0.9981313317101581 and parameters: {'max_depth': 6, 'learning_rate': 0.12779838872142651, 'num_leaves': 63, 'min_data_in_leaf': 483, 'max_bin': 45, 'lambda_l1': 20, 'lambda_l2': 30, 'min_gain_to_split': 12.127337931620858, 'bagging_fraction': 0.8, 'bagging_freq': 1, 'feature_fraction': 0.30000000000000004}. Best is trial 47 with value: 0.9995429784950067.\u001b[0m\n",
            "\u001b[32m[I 2022-03-22 09:06:28,042]\u001b[0m Trial 51 finished with value: 0.9994595324965715 and parameters: {'max_depth': 9, 'learning_rate': 0.17798410639493942, 'num_leaves': 93, 'min_data_in_leaf': 387, 'max_bin': 134, 'lambda_l1': 10, 'lambda_l2': 20, 'min_gain_to_split': 0.27603010448927456, 'bagging_fraction': 0.7, 'bagging_freq': 1, 'feature_fraction': 0.30000000000000004}. Best is trial 47 with value: 0.9995429784950067.\u001b[0m\n",
            "\u001b[32m[I 2022-03-22 09:07:02,350]\u001b[0m Trial 52 finished with value: 0.9995825129092155 and parameters: {'max_depth': 11, 'learning_rate': 0.17967861524958118, 'num_leaves': 174, 'min_data_in_leaf': 314, 'max_bin': 132, 'lambda_l1': 0, 'lambda_l2': 15, 'min_gain_to_split': 1.4742274931232056, 'bagging_fraction': 0.8, 'bagging_freq': 1, 'feature_fraction': 0.2}. Best is trial 52 with value: 0.9995825129092155.\u001b[0m\n",
            "\u001b[32m[I 2022-03-22 09:07:37,745]\u001b[0m Trial 53 finished with value: 0.9994946631056895 and parameters: {'max_depth': 12, 'learning_rate': 0.1416805969116579, 'num_leaves': 293, 'min_data_in_leaf': 309, 'max_bin': 135, 'lambda_l1': 5, 'lambda_l2': 10, 'min_gain_to_split': 0.7324675188996096, 'bagging_fraction': 0.7, 'bagging_freq': 1, 'feature_fraction': 0.2}. Best is trial 52 with value: 0.9995825129092155.\u001b[0m\n",
            "\u001b[32m[I 2022-03-22 09:08:08,750]\u001b[0m Trial 54 finished with value: 0.9990225485996813 and parameters: {'max_depth': 13, 'learning_rate': 0.14309932795343008, 'num_leaves': 420, 'min_data_in_leaf': 320, 'max_bin': 70, 'lambda_l1': 15, 'lambda_l2': 10, 'min_gain_to_split': 2.8165655617052434, 'bagging_fraction': 0.7, 'bagging_freq': 1, 'feature_fraction': 0.2}. Best is trial 52 with value: 0.9995825129092155.\u001b[0m\n",
            "\u001b[32m[I 2022-03-22 09:08:46,799]\u001b[0m Trial 55 finished with value: 0.9997165092350911 and parameters: {'max_depth': 12, 'learning_rate': 0.1218825062761926, 'num_leaves': 250, 'min_data_in_leaf': 261, 'max_bin': 103, 'lambda_l1': 0, 'lambda_l2': 0, 'min_gain_to_split': 1.3187952890348742, 'bagging_fraction': 0.7, 'bagging_freq': 1, 'feature_fraction': 0.2}. Best is trial 55 with value: 0.9997165092350911.\u001b[0m\n",
            "\u001b[32m[I 2022-03-22 09:09:26,682]\u001b[0m Trial 56 finished with value: 0.9993386302392155 and parameters: {'max_depth': 12, 'learning_rate': 0.06444544012492351, 'num_leaves': 290, 'min_data_in_leaf': 228, 'max_bin': 103, 'lambda_l1': 5, 'lambda_l2': 0, 'min_gain_to_split': 1.3369021295830528, 'bagging_fraction': 0.7, 'bagging_freq': 1, 'feature_fraction': 0.2}. Best is trial 55 with value: 0.9997165092350911.\u001b[0m\n",
            "\u001b[32m[I 2022-03-22 09:09:56,984]\u001b[0m Trial 57 finished with value: 0.997712883797733 and parameters: {'max_depth': 12, 'learning_rate': 0.12117111980194348, 'num_leaves': 275, 'min_data_in_leaf': 264, 'max_bin': 88, 'lambda_l1': 60, 'lambda_l2': 5, 'min_gain_to_split': 4.277739120225079, 'bagging_fraction': 0.8, 'bagging_freq': 1, 'feature_fraction': 0.2}. Best is trial 55 with value: 0.9997165092350911.\u001b[0m\n",
            "\u001b[32m[I 2022-03-22 09:10:28,029]\u001b[0m Trial 58 finished with value: 0.9949276706131961 and parameters: {'max_depth': 11, 'learning_rate': 0.09232650621526456, 'num_leaves': 192, 'min_data_in_leaf': 301, 'max_bin': 143, 'lambda_l1': 90, 'lambda_l2': 0, 'min_gain_to_split': 2.2561155653389076, 'bagging_fraction': 0.6000000000000001, 'bagging_freq': 1, 'feature_fraction': 0.2}. Best is trial 55 with value: 0.9997165092350911.\u001b[0m\n",
            "\u001b[32m[I 2022-03-22 09:10:57,552]\u001b[0m Trial 59 finished with value: 0.9985654250560195 and parameters: {'max_depth': 13, 'learning_rate': 0.14455483995211177, 'num_leaves': 488, 'min_data_in_leaf': 17, 'max_bin': 112, 'lambda_l1': 15, 'lambda_l2': 15, 'min_gain_to_split': 8.29342121761021, 'bagging_fraction': 0.7, 'bagging_freq': 1, 'feature_fraction': 0.2}. Best is trial 55 with value: 0.9997165092350911.\u001b[0m\n",
            "\u001b[32m[I 2022-03-22 09:11:30,943]\u001b[0m Trial 60 finished with value: 0.9994902691421377 and parameters: {'max_depth': 12, 'learning_rate': 0.2008351669384836, 'num_leaves': 274, 'min_data_in_leaf': 282, 'max_bin': 135, 'lambda_l1': 10, 'lambda_l2': 10, 'min_gain_to_split': 0.482826761652351, 'bagging_fraction': 0.8, 'bagging_freq': 1, 'feature_fraction': 0.2}. Best is trial 55 with value: 0.9997165092350911.\u001b[0m\n",
            "\u001b[32m[I 2022-03-22 09:12:04,728]\u001b[0m Trial 61 finished with value: 0.9994836809744131 and parameters: {'max_depth': 12, 'learning_rate': 0.20231748934350052, 'num_leaves': 275, 'min_data_in_leaf': 283, 'max_bin': 138, 'lambda_l1': 10, 'lambda_l2': 10, 'min_gain_to_split': 0.36311623097626994, 'bagging_fraction': 0.8, 'bagging_freq': 1, 'feature_fraction': 0.2}. Best is trial 55 with value: 0.9997165092350911.\u001b[0m\n",
            "\u001b[32m[I 2022-03-22 09:12:37,774]\u001b[0m Trial 62 finished with value: 0.9996286378565259 and parameters: {'max_depth': 11, 'learning_rate': 0.19633074741801318, 'num_leaves': 242, 'min_data_in_leaf': 232, 'max_bin': 98, 'lambda_l1': 0, 'lambda_l2': 10, 'min_gain_to_split': 1.4733383079653501, 'bagging_fraction': 0.8, 'bagging_freq': 1, 'feature_fraction': 0.2}. Best is trial 55 with value: 0.9997165092350911.\u001b[0m\n",
            "\u001b[32m[I 2022-03-22 09:13:09,314]\u001b[0m Trial 63 finished with value: 0.9996967392287954 and parameters: {'max_depth': 12, 'learning_rate': 0.22334086233825526, 'num_leaves': 296, 'min_data_in_leaf': 223, 'max_bin': 95, 'lambda_l1': 0, 'lambda_l2': 5, 'min_gain_to_split': 1.5160929717690959, 'bagging_fraction': 0.9, 'bagging_freq': 1, 'feature_fraction': 0.2}. Best is trial 55 with value: 0.9997165092350911.\u001b[0m\n",
            "\u001b[32m[I 2022-03-22 09:13:40,084]\u001b[0m Trial 64 finished with value: 0.9997714376995501 and parameters: {'max_depth': 13, 'learning_rate': 0.22690320686746146, 'num_leaves': 501, 'min_data_in_leaf': 168, 'max_bin': 61, 'lambda_l1': 0, 'lambda_l2': 0, 'min_gain_to_split': 1.2780588498979437, 'bagging_fraction': 0.9, 'bagging_freq': 1, 'feature_fraction': 0.2}. Best is trial 64 with value: 0.9997714376995501.\u001b[0m\n",
            "\u001b[32m[I 2022-03-22 09:14:10,624]\u001b[0m Trial 65 finished with value: 0.9997406778384719 and parameters: {'max_depth': 13, 'learning_rate': 0.2237508356765924, 'num_leaves': 486, 'min_data_in_leaf': 156, 'max_bin': 51, 'lambda_l1': 0, 'lambda_l2': 0, 'min_gain_to_split': 1.4597697376599483, 'bagging_fraction': 0.9, 'bagging_freq': 1, 'feature_fraction': 0.2}. Best is trial 64 with value: 0.9997714376995501.\u001b[0m\n",
            "\u001b[32m[I 2022-03-22 09:14:41,203]\u001b[0m Trial 66 finished with value: 0.9997362852764795 and parameters: {'max_depth': 13, 'learning_rate': 0.2252869013454872, 'num_leaves': 446, 'min_data_in_leaf': 152, 'max_bin': 51, 'lambda_l1': 0, 'lambda_l2': 0, 'min_gain_to_split': 1.2846967614406741, 'bagging_fraction': 0.9, 'bagging_freq': 1, 'feature_fraction': 0.2}. Best is trial 64 with value: 0.9997714376995501.\u001b[0m\n",
            "\u001b[32m[I 2022-03-22 09:15:12,374]\u001b[0m Trial 67 finished with value: 0.9996593877722437 and parameters: {'max_depth': 13, 'learning_rate': 0.22523163945521466, 'num_leaves': 468, 'min_data_in_leaf': 140, 'max_bin': 34, 'lambda_l1': 0, 'lambda_l2': 5, 'min_gain_to_split': 1.5118882841941041, 'bagging_fraction': 0.9, 'bagging_freq': 1, 'feature_fraction': 0.2}. Best is trial 64 with value: 0.9997714376995501.\u001b[0m\n",
            "\u001b[32m[I 2022-03-22 09:15:40,610]\u001b[0m Trial 68 finished with value: 0.9995429777709548 and parameters: {'max_depth': 14, 'learning_rate': 0.22404280230062965, 'num_leaves': 1455, 'min_data_in_leaf': 149, 'max_bin': 28, 'lambda_l1': 0, 'lambda_l2': 0, 'min_gain_to_split': 3.767837615760698, 'bagging_fraction': 0.9, 'bagging_freq': 1, 'feature_fraction': 0.2}. Best is trial 64 with value: 0.9997714376995501.\u001b[0m\n",
            "\u001b[32m[I 2022-03-22 09:16:09,051]\u001b[0m Trial 69 finished with value: 0.9996506033720054 and parameters: {'max_depth': 13, 'learning_rate': 0.2707757799276133, 'num_leaves': 528, 'min_data_in_leaf': 157, 'max_bin': 46, 'lambda_l1': 0, 'lambda_l2': 5, 'min_gain_to_split': 2.0713287105453864, 'bagging_fraction': 0.9, 'bagging_freq': 1, 'feature_fraction': 0.2}. Best is trial 64 with value: 0.9997714376995501.\u001b[0m\n",
            "\u001b[32m[I 2022-03-22 09:16:34,675]\u001b[0m Trial 70 finished with value: 0.9978169614987749 and parameters: {'max_depth': 13, 'learning_rate': 0.27941626202305436, 'num_leaves': 582, 'min_data_in_leaf': 69, 'max_bin': 45, 'lambda_l1': 70, 'lambda_l2': 5, 'min_gain_to_split': 2.7087648628810808, 'bagging_fraction': 0.9, 'bagging_freq': 1, 'feature_fraction': 0.2}. Best is trial 64 with value: 0.9997714376995501.\u001b[0m\n",
            "\u001b[32m[I 2022-03-22 09:17:04,118]\u001b[0m Trial 71 finished with value: 0.999644014335533 and parameters: {'max_depth': 13, 'learning_rate': 0.24760981060746473, 'num_leaves': 498, 'min_data_in_leaf': 160, 'max_bin': 57, 'lambda_l1': 0, 'lambda_l2': 5, 'min_gain_to_split': 2.132379477751025, 'bagging_fraction': 0.9, 'bagging_freq': 1, 'feature_fraction': 0.2}. Best is trial 64 with value: 0.9997714376995501.\u001b[0m\n",
            "\u001b[32m[I 2022-03-22 09:17:35,503]\u001b[0m Trial 72 finished with value: 0.9960780702128282 and parameters: {'max_depth': 13, 'learning_rate': 0.24548194529607056, 'num_leaves': 536, 'min_data_in_leaf': 161, 'max_bin': 31, 'lambda_l1': 0, 'lambda_l2': 0, 'min_gain_to_split': 2.130235724529263, 'bagging_fraction': 0.9, 'bagging_freq': 1, 'feature_fraction': 0.2}. Best is trial 64 with value: 0.9997714376995501.\u001b[0m\n",
            "\u001b[32m[I 2022-03-22 09:18:03,685]\u001b[0m Trial 73 finished with value: 0.9994463527331037 and parameters: {'max_depth': 14, 'learning_rate': 0.2737386404168525, 'num_leaves': 2141, 'min_data_in_leaf': 128, 'max_bin': 57, 'lambda_l1': 5, 'lambda_l2': 5, 'min_gain_to_split': 3.060921452640434, 'bagging_fraction': 0.9, 'bagging_freq': 1, 'feature_fraction': 0.2}. Best is trial 64 with value: 0.9997714376995501.\u001b[0m\n",
            "\u001b[32m[I 2022-03-22 09:18:33,751]\u001b[0m Trial 74 finished with value: 0.9995715384033488 and parameters: {'max_depth': 13, 'learning_rate': 0.2304263952154703, 'num_leaves': 684, 'min_data_in_leaf': 185, 'max_bin': 37, 'lambda_l1': 5, 'lambda_l2': 0, 'min_gain_to_split': 1.1601014957087716, 'bagging_fraction': 0.9, 'bagging_freq': 1, 'feature_fraction': 0.2}. Best is trial 64 with value: 0.9997714376995501.\u001b[0m\n",
            "\u001b[32m[I 2022-03-22 09:19:01,206]\u001b[0m Trial 75 finished with value: 0.9995869076921556 and parameters: {'max_depth': 13, 'learning_rate': 0.298923705250282, 'num_leaves': 523, 'min_data_in_leaf': 74, 'max_bin': 19, 'lambda_l1': 0, 'lambda_l2': 5, 'min_gain_to_split': 1.7823385786800485, 'bagging_fraction': 0.9, 'bagging_freq': 1, 'feature_fraction': 0.2}. Best is trial 64 with value: 0.9997714376995501.\u001b[0m\n",
            "\u001b[32m[I 2022-03-22 09:19:30,881]\u001b[0m Trial 76 finished with value: 0.9996440153010745 and parameters: {'max_depth': 14, 'learning_rate': 0.2535395634888963, 'num_leaves': 2861, 'min_data_in_leaf': 145, 'max_bin': 54, 'lambda_l1': 0, 'lambda_l2': 5, 'min_gain_to_split': 2.2924908076387878, 'bagging_fraction': 0.9, 'bagging_freq': 1, 'feature_fraction': 0.2}. Best is trial 64 with value: 0.9997714376995501.\u001b[0m\n",
            "\u001b[32m[I 2022-03-22 09:20:00,398]\u001b[0m Trial 77 finished with value: 0.9982541061936757 and parameters: {'max_depth': 14, 'learning_rate': 0.2612809446810487, 'num_leaves': 3337, 'min_data_in_leaf': 138, 'max_bin': 39, 'lambda_l1': 50, 'lambda_l2': 0, 'min_gain_to_split': 3.346549014984145, 'bagging_fraction': 0.9, 'bagging_freq': 1, 'feature_fraction': 0.2}. Best is trial 64 with value: 0.9997714376995501.\u001b[0m\n",
            "\u001b[32m[I 2022-03-22 09:20:31,352]\u001b[0m Trial 78 finished with value: 0.9991477639188204 and parameters: {'max_depth': 14, 'learning_rate': 0.27081131574865897, 'num_leaves': 1326, 'min_data_in_leaf': 185, 'max_bin': 10, 'lambda_l1': 5, 'lambda_l2': 5, 'min_gain_to_split': 2.600078854141998, 'bagging_fraction': 0.9, 'bagging_freq': 1, 'feature_fraction': 0.30000000000000004}. Best is trial 64 with value: 0.9997714376995501.\u001b[0m\n",
            "\u001b[32m[I 2022-03-22 09:20:57,638]\u001b[0m Trial 79 finished with value: 0.9990730376542609 and parameters: {'max_depth': 12, 'learning_rate': 0.24026653141268386, 'num_leaves': 490, 'min_data_in_leaf': 213, 'max_bin': 69, 'lambda_l1': 15, 'lambda_l2': 0, 'min_gain_to_split': 5.827064517207725, 'bagging_fraction': 0.9, 'bagging_freq': 1, 'feature_fraction': 0.2}. Best is trial 64 with value: 0.9997714376995501.\u001b[0m\n",
            "\u001b[32m[I 2022-03-22 09:21:32,470]\u001b[0m Trial 80 finished with value: 0.9991916454963345 and parameters: {'max_depth': 14, 'learning_rate': 0.25532324050713434, 'num_leaves': 2781, 'min_data_in_leaf': 102, 'max_bin': 52, 'lambda_l1': 10, 'lambda_l2': 5, 'min_gain_to_split': 4.5780243351376555, 'bagging_fraction': 0.9, 'bagging_freq': 1, 'feature_fraction': 0.8}. Best is trial 64 with value: 0.9997714376995501.\u001b[0m\n",
            "\u001b[32m[I 2022-03-22 09:22:03,576]\u001b[0m Trial 81 finished with value: 0.9992992355589976 and parameters: {'max_depth': 13, 'learning_rate': 0.22959812973117094, 'num_leaves': 458, 'min_data_in_leaf': 156, 'max_bin': 65, 'lambda_l1': 0, 'lambda_l2': 95, 'min_gain_to_split': 2.354242678640084, 'bagging_fraction': 0.9, 'bagging_freq': 1, 'feature_fraction': 0.2}. Best is trial 64 with value: 0.9997714376995501.\u001b[0m\n",
            "\u001b[32m[I 2022-03-22 09:22:31,333]\u001b[0m Trial 82 finished with value: 0.9995407821644763 and parameters: {'max_depth': 13, 'learning_rate': 0.28208203759495615, 'num_leaves': 677, 'min_data_in_leaf': 170, 'max_bin': 20, 'lambda_l1': 0, 'lambda_l2': 5, 'min_gain_to_split': 1.9635087893687044, 'bagging_fraction': 0.9, 'bagging_freq': 1, 'feature_fraction': 0.2}. Best is trial 64 with value: 0.9997714376995501.\u001b[0m\n",
            "\u001b[32m[I 2022-03-22 09:23:02,409]\u001b[0m Trial 83 finished with value: 0.9994990522419667 and parameters: {'max_depth': 13, 'learning_rate': 0.24915705631288598, 'num_leaves': 464, 'min_data_in_leaf': 185, 'max_bin': 56, 'lambda_l1': 5, 'lambda_l2': 15, 'min_gain_to_split': 0.9962138708074743, 'bagging_fraction': 0.9, 'bagging_freq': 1, 'feature_fraction': 0.2}. Best is trial 64 with value: 0.9997714376995501.\u001b[0m\n",
            "\u001b[32m[I 2022-03-22 09:23:33,716]\u001b[0m Trial 84 finished with value: 0.9997406749898035 and parameters: {'max_depth': 14, 'learning_rate': 0.21401816157374887, 'num_leaves': 1137, 'min_data_in_leaf': 139, 'max_bin': 39, 'lambda_l1': 0, 'lambda_l2': 0, 'min_gain_to_split': 1.6629157758674016, 'bagging_fraction': 0.8, 'bagging_freq': 1, 'feature_fraction': 0.30000000000000004}. Best is trial 64 with value: 0.9997714376995501.\u001b[0m\n",
            "\u001b[32m[I 2022-03-22 09:24:05,129]\u001b[0m Trial 85 finished with value: 0.9997406762453004 and parameters: {'max_depth': 14, 'learning_rate': 0.21304640138888456, 'num_leaves': 1338, 'min_data_in_leaf': 138, 'max_bin': 42, 'lambda_l1': 0, 'lambda_l2': 0, 'min_gain_to_split': 1.4736194956833932, 'bagging_fraction': 0.8, 'bagging_freq': 1, 'feature_fraction': 0.30000000000000004}. Best is trial 64 with value: 0.9997714376995501.\u001b[0m\n",
            "\u001b[32m[I 2022-03-22 09:24:35,571]\u001b[0m Trial 86 finished with value: 0.9994529444721996 and parameters: {'max_depth': 14, 'learning_rate': 0.2144884734785848, 'num_leaves': 1179, 'min_data_in_leaf': 124, 'max_bin': 38, 'lambda_l1': 10, 'lambda_l2': 0, 'min_gain_to_split': 1.5764959649355144, 'bagging_fraction': 0.8, 'bagging_freq': 1, 'feature_fraction': 0.30000000000000004}. Best is trial 64 with value: 0.9997714376995501.\u001b[0m\n",
            "\u001b[32m[I 2022-03-22 09:25:06,388]\u001b[0m Trial 87 finished with value: 0.9995847060040621 and parameters: {'max_depth': 12, 'learning_rate': 0.22076381372764464, 'num_leaves': 360, 'min_data_in_leaf': 108, 'max_bin': 33, 'lambda_l1': 5, 'lambda_l2': 0, 'min_gain_to_split': 1.1603675438282766, 'bagging_fraction': 0.8, 'bagging_freq': 1, 'feature_fraction': 0.30000000000000004}. Best is trial 64 with value: 0.9997714376995501.\u001b[0m\n",
            "\u001b[32m[I 2022-03-22 09:25:30,388]\u001b[0m Trial 88 finished with value: 0.9942998404437411 and parameters: {'max_depth': 14, 'learning_rate': 0.24057839491718908, 'num_leaves': 1976, 'min_data_in_leaf': 67, 'max_bin': 20, 'lambda_l1': 100, 'lambda_l2': 0, 'min_gain_to_split': 14.17537816391598, 'bagging_fraction': 0.8, 'bagging_freq': 1, 'feature_fraction': 0.30000000000000004}. Best is trial 64 with value: 0.9997714376995501.\u001b[0m\n",
            "\u001b[32m[I 2022-03-22 09:26:00,417]\u001b[0m Trial 89 finished with value: 0.999593497935644 and parameters: {'max_depth': 12, 'learning_rate': 0.22484541684940193, 'num_leaves': 408, 'min_data_in_leaf': 82, 'max_bin': 47, 'lambda_l1': 5, 'lambda_l2': 0, 'min_gain_to_split': 1.8147714946956581, 'bagging_fraction': 0.8, 'bagging_freq': 1, 'feature_fraction': 0.30000000000000004}. Best is trial 64 with value: 0.9997714376995501.\u001b[0m\n",
            "\u001b[32m[I 2022-03-22 09:26:40,470]\u001b[0m Trial 90 finished with value: 0.9996835574385372 and parameters: {'max_depth': 13, 'learning_rate': 0.211511942490895, 'num_leaves': 680, 'min_data_in_leaf': 134, 'max_bin': 81, 'lambda_l1': 0, 'lambda_l2': 10, 'min_gain_to_split': 1.2707776001860491, 'bagging_fraction': 0.9, 'bagging_freq': 1, 'feature_fraction': 0.6000000000000001}. Best is trial 64 with value: 0.9997714376995501.\u001b[0m\n",
            "\u001b[32m[I 2022-03-22 09:27:18,575]\u001b[0m Trial 91 finished with value: 0.9997099232408182 and parameters: {'max_depth': 13, 'learning_rate': 0.21615267972410016, 'num_leaves': 739, 'min_data_in_leaf': 89, 'max_bin': 80, 'lambda_l1': 0, 'lambda_l2': 5, 'min_gain_to_split': 1.4835378995712851, 'bagging_fraction': 0.9, 'bagging_freq': 1, 'feature_fraction': 0.6000000000000001}. Best is trial 64 with value: 0.9997714376995501.\u001b[0m\n",
            "\u001b[32m[I 2022-03-22 09:28:00,754]\u001b[0m Trial 92 finished with value: 0.999591303199581 and parameters: {'max_depth': 14, 'learning_rate': 0.20884999199540633, 'num_leaves': 9449, 'min_data_in_leaf': 46, 'max_bin': 73, 'lambda_l1': 5, 'lambda_l2': 10, 'min_gain_to_split': 1.4696105876763386, 'bagging_fraction': 0.9, 'bagging_freq': 1, 'feature_fraction': 0.6000000000000001}. Best is trial 64 with value: 0.9997714376995501.\u001b[0m\n",
            "\u001b[32m[I 2022-03-22 09:28:41,605]\u001b[0m Trial 93 finished with value: 0.9997340858087908 and parameters: {'max_depth': 12, 'learning_rate': 0.18794300140894843, 'num_leaves': 614, 'min_data_in_leaf': 134, 'max_bin': 63, 'lambda_l1': 0, 'lambda_l2': 5, 'min_gain_to_split': 1.1216941793972435, 'bagging_fraction': 0.8, 'bagging_freq': 1, 'feature_fraction': 0.6000000000000001}. Best is trial 64 with value: 0.9997714376995501.\u001b[0m\n",
            "\u001b[32m[I 2022-03-22 09:29:18,822]\u001b[0m Trial 94 finished with value: 0.9995517727914885 and parameters: {'max_depth': 12, 'learning_rate': 0.21419277468821507, 'num_leaves': 580, 'min_data_in_leaf': 87, 'max_bin': 79, 'lambda_l1': 10, 'lambda_l2': 0, 'min_gain_to_split': 0.6123045523600157, 'bagging_fraction': 0.8, 'bagging_freq': 1, 'feature_fraction': 0.6000000000000001}. Best is trial 64 with value: 0.9997714376995501.\u001b[0m\n",
            "\u001b[32m[I 2022-03-22 09:30:00,086]\u001b[0m Trial 95 finished with value: 0.9996769661809276 and parameters: {'max_depth': 11, 'learning_rate': 0.23901124611712693, 'num_leaves': 392, 'min_data_in_leaf': 129, 'max_bin': 86, 'lambda_l1': 0, 'lambda_l2': 15, 'min_gain_to_split': 1.124658067868156, 'bagging_fraction': 0.8, 'bagging_freq': 1, 'feature_fraction': 0.7}. Best is trial 64 with value: 0.9997714376995501.\u001b[0m\n",
            "\u001b[32m[I 2022-03-22 09:30:41,136]\u001b[0m Trial 96 finished with value: 0.9996484054493694 and parameters: {'max_depth': 12, 'learning_rate': 0.18898301331022463, 'num_leaves': 599, 'min_data_in_leaf': 115, 'max_bin': 64, 'lambda_l1': 5, 'lambda_l2': 0, 'min_gain_to_split': 0.5083196733027576, 'bagging_fraction': 0.8, 'bagging_freq': 1, 'feature_fraction': 0.6000000000000001}. Best is trial 64 with value: 0.9997714376995501.\u001b[0m\n",
            "\u001b[32m[I 2022-03-22 09:31:33,365]\u001b[0m Trial 97 finished with value: 0.9996835582109262 and parameters: {'max_depth': 13, 'learning_rate': 0.19323237428948464, 'num_leaves': 819, 'min_data_in_leaf': 248, 'max_bin': 81, 'lambda_l1': 0, 'lambda_l2': 10, 'min_gain_to_split': 1.0597350387748476, 'bagging_fraction': 0.9, 'bagging_freq': 1, 'feature_fraction': 0.6000000000000001}. Best is trial 64 with value: 0.9997714376995501.\u001b[0m\n",
            "\u001b[32m[I 2022-03-22 09:32:11,199]\u001b[0m Trial 98 finished with value: 0.999481503031015 and parameters: {'max_depth': 14, 'learning_rate': 0.20455398750218756, 'num_leaves': 1758, 'min_data_in_leaf': 248, 'max_bin': 91, 'lambda_l1': 10, 'lambda_l2': 5, 'min_gain_to_split': 0.9225142405451464, 'bagging_fraction': 0.9, 'bagging_freq': 1, 'feature_fraction': 0.5}. Best is trial 64 with value: 0.9997714376995501.\u001b[0m\n",
            "\u001b[32m[I 2022-03-22 09:32:46,627]\u001b[0m Trial 99 finished with value: 0.9994441590085318 and parameters: {'max_depth': 13, 'learning_rate': 0.19053586625249355, 'num_leaves': 830, 'min_data_in_leaf': 196, 'max_bin': 95, 'lambda_l1': 5, 'lambda_l2': 0, 'min_gain_to_split': 2.6988745575246758, 'bagging_fraction': 0.8, 'bagging_freq': 1, 'feature_fraction': 0.6000000000000001}. Best is trial 64 with value: 0.9997714376995501.\u001b[0m\n"
          ]
        }
      ]
    },
    {
      "cell_type": "code",
      "source": [
        "#trial = study.best_trial\n",
        "#print('Accuracy: {}'.format(trial.value))\n",
        "#print(\"Best hyperparameters: {}\".format(trial.params))\n",
        "\n",
        "print(f\"\\tBest value (Accuracy): {study.best_value:.5f}\")\n",
        "print(f\"\\tBest params:\")\n",
        "\n",
        "for key, value in study.best_params.items():\n",
        "    print(f\"\\t\\t{key}: {value}\")"
      ],
      "metadata": {
        "colab": {
          "base_uri": "https://localhost:8080/"
        },
        "id": "3hbvJEcuFvrB",
        "outputId": "55ac0240-0ed0-4fe8-dab0-7c3b0d9884e7"
      },
      "execution_count": null,
      "outputs": [
        {
          "output_type": "stream",
          "name": "stdout",
          "text": [
            "\tBest value (Accuracy): 0.99977\n",
            "\tBest params:\n",
            "\t\tmax_depth: 13\n",
            "\t\tlearning_rate: 0.22690320686746146\n",
            "\t\tnum_leaves: 501\n",
            "\t\tmin_data_in_leaf: 168\n",
            "\t\tmax_bin: 61\n",
            "\t\tlambda_l1: 0\n",
            "\t\tlambda_l2: 0\n",
            "\t\tmin_gain_to_split: 1.2780588498979437\n",
            "\t\tbagging_fraction: 0.9\n",
            "\t\tbagging_freq: 1\n",
            "\t\tfeature_fraction: 0.2\n"
          ]
        }
      ]
    },
    {
      "cell_type": "code",
      "source": [
        "param_lgb = {'max_depth': 13,\n",
        "\t\t'learning_rate': 0.22690320686746146,\n",
        "\t\t'num_leaves': 501,\n",
        "\t\t'min_data_in_leaf': 168,\n",
        "\t\t'max_bin': 61,\n",
        "\t\t'lambda_l1': 0,\n",
        "\t\t'lambda_l2': 0,\n",
        "\t\t'min_gain_to_split': 1.2780588498979437,\n",
        "\t\t'bagging_fraction': 0.9,\n",
        "\t\t'bagging_freq': 1,\n",
        "\t\t'feature_fraction': 0.2\n",
        "    \n",
        "}\n",
        "\n",
        "lgb_opt = lgb.LGBMClassifier(**param_lgb)\n",
        "lgb_opt, accuracy_lgbopt, roc_auc_lgbopt, f1_score_lgbopt,coh_kap_lgbopt, tt_lgbopt = run_model(lgb_opt, X_train_smt, y_train_smt, X_test, y_test)"
      ],
      "metadata": {
        "colab": {
          "base_uri": "https://localhost:8080/",
          "height": 800
        },
        "id": "37p80nFY-olc",
        "outputId": "bb5d7934-e765-4c13-85fc-3546464f9bdd"
      },
      "execution_count": null,
      "outputs": [
        {
          "output_type": "stream",
          "name": "stdout",
          "text": [
            "Accuracy = 0.9992977774656788\n",
            "ROC Area under Curve = 0.9255227399245789\n",
            "F1 Score  = 0.8113207547169811\n",
            "Cohen's Kappa = 0.8109697729841949\n",
            "Time taken = 5.972809314727783\n",
            "              precision    recall  f1-score   support\n",
            "\n",
            "           0    0.99974   0.99956   0.99965     56861\n",
            "           1    0.77477   0.85149   0.81132       101\n",
            "\n",
            "    accuracy                        0.99930     56962\n",
            "   macro avg    0.88726   0.92552   0.90548     56962\n",
            "weighted avg    0.99934   0.99930   0.99931     56962\n",
            "\n"
          ]
        },
        {
          "output_type": "display_data",
          "data": {
            "text/plain": [
              "<Figure size 432x288 with 1 Axes>"
            ],
            "image/png": "[encoded data removed]"
          },
          "metadata": {
            "needs_background": "light"
          }
        },
        {
          "output_type": "display_data",
          "data": {
            "text/plain": [
              "<Figure size 432x288 with 2 Axes>"
            ],
            "image/png": "[encoded data removed]"
          },
          "metadata": {
            "needs_background": "light"
          }
        }
      ]
    },
    {
      "cell_type": "markdown",
      "source": [
        "* Mô hình đã có sự cải thiện đáng kể với chỉ số `f1_score` từ 65.3% đã tăng lên 81.13%\n",
        "* Với bài toán Credit Card Fraud Detection, chúng ta nên chú trọng vào việc giảm số lượng sai lầm loại I (FP) mà mô hình phán đoán được. Những khách hàng thuộc sai lầm loại I về thực tế họ đã thực hiện hành vi gian lận nhưng mô hình dự đoán những khách hàng này không có hành vi gian lận. Điều dẫn đến một sự mất mát lớn cho tổ chức tín dụng khi chúng ta đã dự đoán sai những đối tượng KH này.\n",
        "* Do đó, ngoài việc lựa chọn mô hình tốt, chúng ta cũng cần lựa chọn những mô hình có các TH thuộc sai lầm loại I là thấp nhất.\n",
        "\n",
        "=> Mô hình `LightGBM` sẽ là mô hình được lựa chọn đề giải quyết bài toán này!"
      ],
      "metadata": {
        "id": "l-tGUNzlFrrQ"
      }
    }
  ]
}